{
  "nbformat": 4,
  "nbformat_minor": 0,
  "metadata": {
    "kernelspec": {
      "language": "python",
      "display_name": "Python 3",
      "name": "python3"
    },
    "language_info": {
      "pygments_lexer": "ipython3",
      "nbconvert_exporter": "python",
      "version": "3.6.4",
      "file_extension": ".py",
      "codemirror_mode": {
        "name": "ipython",
        "version": 3
      },
      "name": "python",
      "mimetype": "text/x-python"
    },
    "colab": {
      "name": "NetflixProject.ipynb",
      "provenance": [],
      "collapsed_sections": [
        "642a6vQFzyUN"
      ]
    }
  },
  "cells": [
    {
      "cell_type": "markdown",
      "metadata": {
        "id": "mH7sBZcdDmKG"
      },
      "source": [
        "## A deep analysis of **Netflix Movies and Shows** database"
      ]
    },
    {
      "cell_type": "code",
      "metadata": {
        "id": "UP7hrelwDjPl",
        "execution": {
          "iopub.status.busy": "2021-11-10T16:06:45.102017Z",
          "iopub.execute_input": "2021-11-10T16:06:45.102836Z",
          "iopub.status.idle": "2021-11-10T16:06:45.107121Z",
          "shell.execute_reply.started": "2021-11-10T16:06:45.102797Z",
          "shell.execute_reply": "2021-11-10T16:06:45.106406Z"
        },
        "trusted": true
      },
      "source": [
        "import numpy as np\n",
        "import pandas as pd\n",
        "import matplotlib.pyplot as plt\n",
        "import seaborn as sns"
      ],
      "execution_count": 3,
      "outputs": []
    },
    {
      "cell_type": "code",
      "metadata": {
        "id": "2WWElmf2EOwx",
        "execution": {
          "iopub.status.busy": "2021-11-10T16:06:45.109535Z",
          "iopub.execute_input": "2021-11-10T16:06:45.109869Z",
          "iopub.status.idle": "2021-11-10T16:06:45.250549Z",
          "shell.execute_reply.started": "2021-11-10T16:06:45.109829Z",
          "shell.execute_reply": "2021-11-10T16:06:45.249531Z"
        },
        "trusted": true,
        "colab": {
          "base_uri": "https://localhost:8080/",
          "height": 337
        },
        "outputId": "42648911-b9f0-45ea-e6b3-d2bf5869c43d"
      },
      "source": [
        "Netflix_data = pd.read_csv('/content/netflix_titles.csv')\n",
        "Netflix_data.head()"
      ],
      "execution_count": 4,
      "outputs": [
        {
          "output_type": "execute_result",
          "data": {
            "text/html": [
              "\n",
              "  <div id=\"df-2e276771-97f3-4346-b823-eca0f3e01805\">\n",
              "    <div class=\"colab-df-container\">\n",
              "      <div>\n",
              "<style scoped>\n",
              "    .dataframe tbody tr th:only-of-type {\n",
              "        vertical-align: middle;\n",
              "    }\n",
              "\n",
              "    .dataframe tbody tr th {\n",
              "        vertical-align: top;\n",
              "    }\n",
              "\n",
              "    .dataframe thead th {\n",
              "        text-align: right;\n",
              "    }\n",
              "</style>\n",
              "<table border=\"1\" class=\"dataframe\">\n",
              "  <thead>\n",
              "    <tr style=\"text-align: right;\">\n",
              "      <th></th>\n",
              "      <th>show_id</th>\n",
              "      <th>type</th>\n",
              "      <th>title</th>\n",
              "      <th>director</th>\n",
              "      <th>cast</th>\n",
              "      <th>country</th>\n",
              "      <th>date_added</th>\n",
              "      <th>release_year</th>\n",
              "      <th>rating</th>\n",
              "      <th>duration</th>\n",
              "      <th>listed_in</th>\n",
              "      <th>description</th>\n",
              "    </tr>\n",
              "  </thead>\n",
              "  <tbody>\n",
              "    <tr>\n",
              "      <th>0</th>\n",
              "      <td>s1</td>\n",
              "      <td>Movie</td>\n",
              "      <td>Dick Johnson Is Dead</td>\n",
              "      <td>Kirsten Johnson</td>\n",
              "      <td>NaN</td>\n",
              "      <td>United States</td>\n",
              "      <td>September 25, 2021</td>\n",
              "      <td>2020</td>\n",
              "      <td>PG-13</td>\n",
              "      <td>90 min</td>\n",
              "      <td>Documentaries</td>\n",
              "      <td>As her father nears the end of his life, filmm...</td>\n",
              "    </tr>\n",
              "    <tr>\n",
              "      <th>1</th>\n",
              "      <td>s2</td>\n",
              "      <td>TV Show</td>\n",
              "      <td>Blood &amp; Water</td>\n",
              "      <td>NaN</td>\n",
              "      <td>Ama Qamata, Khosi Ngema, Gail Mabalane, Thaban...</td>\n",
              "      <td>South Africa</td>\n",
              "      <td>September 24, 2021</td>\n",
              "      <td>2021</td>\n",
              "      <td>TV-MA</td>\n",
              "      <td>2 Seasons</td>\n",
              "      <td>International TV Shows, TV Dramas, TV Mysteries</td>\n",
              "      <td>After crossing paths at a party, a Cape Town t...</td>\n",
              "    </tr>\n",
              "    <tr>\n",
              "      <th>2</th>\n",
              "      <td>s3</td>\n",
              "      <td>TV Show</td>\n",
              "      <td>Ganglands</td>\n",
              "      <td>Julien Leclercq</td>\n",
              "      <td>Sami Bouajila, Tracy Gotoas, Samuel Jouy, Nabi...</td>\n",
              "      <td>NaN</td>\n",
              "      <td>September 24, 2021</td>\n",
              "      <td>2021</td>\n",
              "      <td>TV-MA</td>\n",
              "      <td>1 Season</td>\n",
              "      <td>Crime TV Shows, International TV Shows, TV Act...</td>\n",
              "      <td>To protect his family from a powerful drug lor...</td>\n",
              "    </tr>\n",
              "    <tr>\n",
              "      <th>3</th>\n",
              "      <td>s4</td>\n",
              "      <td>TV Show</td>\n",
              "      <td>Jailbirds New Orleans</td>\n",
              "      <td>NaN</td>\n",
              "      <td>NaN</td>\n",
              "      <td>NaN</td>\n",
              "      <td>September 24, 2021</td>\n",
              "      <td>2021</td>\n",
              "      <td>TV-MA</td>\n",
              "      <td>1 Season</td>\n",
              "      <td>Docuseries, Reality TV</td>\n",
              "      <td>Feuds, flirtations and toilet talk go down amo...</td>\n",
              "    </tr>\n",
              "    <tr>\n",
              "      <th>4</th>\n",
              "      <td>s5</td>\n",
              "      <td>TV Show</td>\n",
              "      <td>Kota Factory</td>\n",
              "      <td>NaN</td>\n",
              "      <td>Mayur More, Jitendra Kumar, Ranjan Raj, Alam K...</td>\n",
              "      <td>India</td>\n",
              "      <td>September 24, 2021</td>\n",
              "      <td>2021</td>\n",
              "      <td>TV-MA</td>\n",
              "      <td>2 Seasons</td>\n",
              "      <td>International TV Shows, Romantic TV Shows, TV ...</td>\n",
              "      <td>In a city of coaching centers known to train I...</td>\n",
              "    </tr>\n",
              "  </tbody>\n",
              "</table>\n",
              "</div>\n",
              "      <button class=\"colab-df-convert\" onclick=\"convertToInteractive('df-2e276771-97f3-4346-b823-eca0f3e01805')\"\n",
              "              title=\"Convert this dataframe to an interactive table.\"\n",
              "              style=\"display:none;\">\n",
              "        \n",
              "  <svg xmlns=\"http://www.w3.org/2000/svg\" height=\"24px\"viewBox=\"0 0 24 24\"\n",
              "       width=\"24px\">\n",
              "    <path d=\"M0 0h24v24H0V0z\" fill=\"none\"/>\n",
              "    <path d=\"M18.56 5.44l.94 2.06.94-2.06 2.06-.94-2.06-.94-.94-2.06-.94 2.06-2.06.94zm-11 1L8.5 8.5l.94-2.06 2.06-.94-2.06-.94L8.5 2.5l-.94 2.06-2.06.94zm10 10l.94 2.06.94-2.06 2.06-.94-2.06-.94-.94-2.06-.94 2.06-2.06.94z\"/><path d=\"M17.41 7.96l-1.37-1.37c-.4-.4-.92-.59-1.43-.59-.52 0-1.04.2-1.43.59L10.3 9.45l-7.72 7.72c-.78.78-.78 2.05 0 2.83L4 21.41c.39.39.9.59 1.41.59.51 0 1.02-.2 1.41-.59l7.78-7.78 2.81-2.81c.8-.78.8-2.07 0-2.86zM5.41 20L4 18.59l7.72-7.72 1.47 1.35L5.41 20z\"/>\n",
              "  </svg>\n",
              "      </button>\n",
              "      \n",
              "  <style>\n",
              "    .colab-df-container {\n",
              "      display:flex;\n",
              "      flex-wrap:wrap;\n",
              "      gap: 12px;\n",
              "    }\n",
              "\n",
              "    .colab-df-convert {\n",
              "      background-color: #E8F0FE;\n",
              "      border: none;\n",
              "      border-radius: 50%;\n",
              "      cursor: pointer;\n",
              "      display: none;\n",
              "      fill: #1967D2;\n",
              "      height: 32px;\n",
              "      padding: 0 0 0 0;\n",
              "      width: 32px;\n",
              "    }\n",
              "\n",
              "    .colab-df-convert:hover {\n",
              "      background-color: #E2EBFA;\n",
              "      box-shadow: 0px 1px 2px rgba(60, 64, 67, 0.3), 0px 1px 3px 1px rgba(60, 64, 67, 0.15);\n",
              "      fill: #174EA6;\n",
              "    }\n",
              "\n",
              "    [theme=dark] .colab-df-convert {\n",
              "      background-color: #3B4455;\n",
              "      fill: #D2E3FC;\n",
              "    }\n",
              "\n",
              "    [theme=dark] .colab-df-convert:hover {\n",
              "      background-color: #434B5C;\n",
              "      box-shadow: 0px 1px 3px 1px rgba(0, 0, 0, 0.15);\n",
              "      filter: drop-shadow(0px 1px 2px rgba(0, 0, 0, 0.3));\n",
              "      fill: #FFFFFF;\n",
              "    }\n",
              "  </style>\n",
              "\n",
              "      <script>\n",
              "        const buttonEl =\n",
              "          document.querySelector('#df-2e276771-97f3-4346-b823-eca0f3e01805 button.colab-df-convert');\n",
              "        buttonEl.style.display =\n",
              "          google.colab.kernel.accessAllowed ? 'block' : 'none';\n",
              "\n",
              "        async function convertToInteractive(key) {\n",
              "          const element = document.querySelector('#df-2e276771-97f3-4346-b823-eca0f3e01805');\n",
              "          const dataTable =\n",
              "            await google.colab.kernel.invokeFunction('convertToInteractive',\n",
              "                                                     [key], {});\n",
              "          if (!dataTable) return;\n",
              "\n",
              "          const docLinkHtml = 'Like what you see? Visit the ' +\n",
              "            '<a target=\"_blank\" href=https://colab.research.google.com/notebooks/data_table.ipynb>data table notebook</a>'\n",
              "            + ' to learn more about interactive tables.';\n",
              "          element.innerHTML = '';\n",
              "          dataTable['output_type'] = 'display_data';\n",
              "          await google.colab.output.renderOutput(dataTable, element);\n",
              "          const docLink = document.createElement('div');\n",
              "          docLink.innerHTML = docLinkHtml;\n",
              "          element.appendChild(docLink);\n",
              "        }\n",
              "      </script>\n",
              "    </div>\n",
              "  </div>\n",
              "  "
            ],
            "text/plain": [
              "  show_id  ...                                        description\n",
              "0      s1  ...  As her father nears the end of his life, filmm...\n",
              "1      s2  ...  After crossing paths at a party, a Cape Town t...\n",
              "2      s3  ...  To protect his family from a powerful drug lor...\n",
              "3      s4  ...  Feuds, flirtations and toilet talk go down amo...\n",
              "4      s5  ...  In a city of coaching centers known to train I...\n",
              "\n",
              "[5 rows x 12 columns]"
            ]
          },
          "metadata": {},
          "execution_count": 4
        }
      ]
    },
    {
      "cell_type": "code",
      "metadata": {
        "id": "aQ3_DVh1EZ3s",
        "execution": {
          "iopub.status.busy": "2021-11-10T16:06:45.252491Z",
          "iopub.execute_input": "2021-11-10T16:06:45.252927Z",
          "iopub.status.idle": "2021-11-10T16:06:45.259176Z",
          "shell.execute_reply.started": "2021-11-10T16:06:45.252857Z",
          "shell.execute_reply": "2021-11-10T16:06:45.25832Z"
        },
        "trusted": true,
        "colab": {
          "base_uri": "https://localhost:8080/"
        },
        "outputId": "c27cf886-1f49-4d66-d311-066a6f6545dc"
      },
      "source": [
        "Netflix_data.shape"
      ],
      "execution_count": 5,
      "outputs": [
        {
          "output_type": "execute_result",
          "data": {
            "text/plain": [
              "(8807, 12)"
            ]
          },
          "metadata": {},
          "execution_count": 5
        }
      ]
    },
    {
      "cell_type": "code",
      "metadata": {
        "id": "ivkqozmSEkRa",
        "execution": {
          "iopub.status.busy": "2021-11-10T16:06:45.260674Z",
          "iopub.execute_input": "2021-11-10T16:06:45.261142Z",
          "iopub.status.idle": "2021-11-10T16:06:45.290934Z",
          "shell.execute_reply.started": "2021-11-10T16:06:45.261105Z",
          "shell.execute_reply": "2021-11-10T16:06:45.290265Z"
        },
        "trusted": true,
        "colab": {
          "base_uri": "https://localhost:8080/"
        },
        "outputId": "aa72f450-b9bd-40e4-9322-00e693aff4db"
      },
      "source": [
        "Netflix_data.info()"
      ],
      "execution_count": 6,
      "outputs": [
        {
          "output_type": "stream",
          "name": "stdout",
          "text": [
            "<class 'pandas.core.frame.DataFrame'>\n",
            "RangeIndex: 8807 entries, 0 to 8806\n",
            "Data columns (total 12 columns):\n",
            " #   Column        Non-Null Count  Dtype \n",
            "---  ------        --------------  ----- \n",
            " 0   show_id       8807 non-null   object\n",
            " 1   type          8807 non-null   object\n",
            " 2   title         8807 non-null   object\n",
            " 3   director      6173 non-null   object\n",
            " 4   cast          7982 non-null   object\n",
            " 5   country       7976 non-null   object\n",
            " 6   date_added    8797 non-null   object\n",
            " 7   release_year  8807 non-null   int64 \n",
            " 8   rating        8803 non-null   object\n",
            " 9   duration      8804 non-null   object\n",
            " 10  listed_in     8807 non-null   object\n",
            " 11  description   8807 non-null   object\n",
            "dtypes: int64(1), object(11)\n",
            "memory usage: 825.8+ KB\n"
          ]
        }
      ]
    },
    {
      "cell_type": "code",
      "metadata": {
        "id": "qhjqGM8nE5wC",
        "execution": {
          "iopub.status.busy": "2021-11-10T16:06:45.292977Z",
          "iopub.execute_input": "2021-11-10T16:06:45.29342Z",
          "iopub.status.idle": "2021-11-10T16:06:45.312137Z",
          "shell.execute_reply.started": "2021-11-10T16:06:45.293383Z",
          "shell.execute_reply": "2021-11-10T16:06:45.311446Z"
        },
        "trusted": true,
        "colab": {
          "base_uri": "https://localhost:8080/"
        },
        "outputId": "c0c6ac3f-21bc-48fc-d691-527ebb376334"
      },
      "source": [
        "Netflix_data.isnull().sum()"
      ],
      "execution_count": 7,
      "outputs": [
        {
          "output_type": "execute_result",
          "data": {
            "text/plain": [
              "show_id            0\n",
              "type               0\n",
              "title              0\n",
              "director        2634\n",
              "cast             825\n",
              "country          831\n",
              "date_added        10\n",
              "release_year       0\n",
              "rating             4\n",
              "duration           3\n",
              "listed_in          0\n",
              "description        0\n",
              "dtype: int64"
            ]
          },
          "metadata": {},
          "execution_count": 7
        }
      ]
    },
    {
      "cell_type": "markdown",
      "metadata": {
        "id": "zBljxxr6nBCh"
      },
      "source": [
        "The data is mostly usable. Null values are highest in the Director's column. While dates added are an important information for data interpretation, 10 values in a data set of 8807. "
      ]
    },
    {
      "cell_type": "markdown",
      "metadata": {
        "id": "SFTafosvSXi1"
      },
      "source": [
        "# **Data PreProcessing**"
      ]
    },
    {
      "cell_type": "code",
      "metadata": {
        "id": "8kViI35RSsf1",
        "execution": {
          "iopub.status.busy": "2021-11-10T16:06:45.3133Z",
          "iopub.execute_input": "2021-11-10T16:06:45.313651Z",
          "iopub.status.idle": "2021-11-10T16:06:45.325817Z",
          "shell.execute_reply.started": "2021-11-10T16:06:45.313614Z",
          "shell.execute_reply": "2021-11-10T16:06:45.324884Z"
        },
        "trusted": true,
        "colab": {
          "base_uri": "https://localhost:8080/"
        },
        "outputId": "bb589a7d-ee2d-4c4a-9c69-5cfe02006263"
      },
      "source": [
        "Netflix_data.type.value_counts()"
      ],
      "execution_count": 8,
      "outputs": [
        {
          "output_type": "execute_result",
          "data": {
            "text/plain": [
              "Movie      6131\n",
              "TV Show    2676\n",
              "Name: type, dtype: int64"
            ]
          },
          "metadata": {},
          "execution_count": 8
        }
      ]
    },
    {
      "cell_type": "code",
      "metadata": {
        "id": "6OOMP8pATSPE",
        "execution": {
          "iopub.status.busy": "2021-11-10T16:06:45.327346Z",
          "iopub.execute_input": "2021-11-10T16:06:45.327806Z",
          "iopub.status.idle": "2021-11-10T16:06:45.344543Z",
          "shell.execute_reply.started": "2021-11-10T16:06:45.327757Z",
          "shell.execute_reply": "2021-11-10T16:06:45.343933Z"
        },
        "trusted": true
      },
      "source": [
        "import copy\n",
        "Netflix_Movie_data = copy.deepcopy(Netflix_data[Netflix_data.type == 'Movie'])\n",
        "Netflix_Shows_data = copy.deepcopy(Netflix_data[~(Netflix_data.type == 'Movie')])"
      ],
      "execution_count": 9,
      "outputs": []
    },
    {
      "cell_type": "code",
      "metadata": {
        "id": "vcm7hIi8VEku",
        "execution": {
          "iopub.status.busy": "2021-11-10T16:06:45.346301Z",
          "iopub.execute_input": "2021-11-10T16:06:45.346913Z",
          "iopub.status.idle": "2021-11-10T16:06:45.367627Z",
          "shell.execute_reply.started": "2021-11-10T16:06:45.34686Z",
          "shell.execute_reply": "2021-11-10T16:06:45.366732Z"
        },
        "trusted": true,
        "colab": {
          "base_uri": "https://localhost:8080/",
          "height": 372
        },
        "outputId": "29fb16ae-65f0-47fb-e2b1-212c2829d4a9"
      },
      "source": [
        "Netflix_Movie_data.head()"
      ],
      "execution_count": 10,
      "outputs": [
        {
          "output_type": "execute_result",
          "data": {
            "text/html": [
              "\n",
              "  <div id=\"df-8a8ebdc2-dc86-454b-bf43-53bde52a2e44\">\n",
              "    <div class=\"colab-df-container\">\n",
              "      <div>\n",
              "<style scoped>\n",
              "    .dataframe tbody tr th:only-of-type {\n",
              "        vertical-align: middle;\n",
              "    }\n",
              "\n",
              "    .dataframe tbody tr th {\n",
              "        vertical-align: top;\n",
              "    }\n",
              "\n",
              "    .dataframe thead th {\n",
              "        text-align: right;\n",
              "    }\n",
              "</style>\n",
              "<table border=\"1\" class=\"dataframe\">\n",
              "  <thead>\n",
              "    <tr style=\"text-align: right;\">\n",
              "      <th></th>\n",
              "      <th>show_id</th>\n",
              "      <th>type</th>\n",
              "      <th>title</th>\n",
              "      <th>director</th>\n",
              "      <th>cast</th>\n",
              "      <th>country</th>\n",
              "      <th>date_added</th>\n",
              "      <th>release_year</th>\n",
              "      <th>rating</th>\n",
              "      <th>duration</th>\n",
              "      <th>listed_in</th>\n",
              "      <th>description</th>\n",
              "    </tr>\n",
              "  </thead>\n",
              "  <tbody>\n",
              "    <tr>\n",
              "      <th>0</th>\n",
              "      <td>s1</td>\n",
              "      <td>Movie</td>\n",
              "      <td>Dick Johnson Is Dead</td>\n",
              "      <td>Kirsten Johnson</td>\n",
              "      <td>NaN</td>\n",
              "      <td>United States</td>\n",
              "      <td>September 25, 2021</td>\n",
              "      <td>2020</td>\n",
              "      <td>PG-13</td>\n",
              "      <td>90 min</td>\n",
              "      <td>Documentaries</td>\n",
              "      <td>As her father nears the end of his life, filmm...</td>\n",
              "    </tr>\n",
              "    <tr>\n",
              "      <th>6</th>\n",
              "      <td>s7</td>\n",
              "      <td>Movie</td>\n",
              "      <td>My Little Pony: A New Generation</td>\n",
              "      <td>Robert Cullen, José Luis Ucha</td>\n",
              "      <td>Vanessa Hudgens, Kimiko Glenn, James Marsden, ...</td>\n",
              "      <td>NaN</td>\n",
              "      <td>September 24, 2021</td>\n",
              "      <td>2021</td>\n",
              "      <td>PG</td>\n",
              "      <td>91 min</td>\n",
              "      <td>Children &amp; Family Movies</td>\n",
              "      <td>Equestria's divided. But a bright-eyed hero be...</td>\n",
              "    </tr>\n",
              "    <tr>\n",
              "      <th>7</th>\n",
              "      <td>s8</td>\n",
              "      <td>Movie</td>\n",
              "      <td>Sankofa</td>\n",
              "      <td>Haile Gerima</td>\n",
              "      <td>Kofi Ghanaba, Oyafunmike Ogunlano, Alexandra D...</td>\n",
              "      <td>United States, Ghana, Burkina Faso, United Kin...</td>\n",
              "      <td>September 24, 2021</td>\n",
              "      <td>1993</td>\n",
              "      <td>TV-MA</td>\n",
              "      <td>125 min</td>\n",
              "      <td>Dramas, Independent Movies, International Movies</td>\n",
              "      <td>On a photo shoot in Ghana, an American model s...</td>\n",
              "    </tr>\n",
              "    <tr>\n",
              "      <th>9</th>\n",
              "      <td>s10</td>\n",
              "      <td>Movie</td>\n",
              "      <td>The Starling</td>\n",
              "      <td>Theodore Melfi</td>\n",
              "      <td>Melissa McCarthy, Chris O'Dowd, Kevin Kline, T...</td>\n",
              "      <td>United States</td>\n",
              "      <td>September 24, 2021</td>\n",
              "      <td>2021</td>\n",
              "      <td>PG-13</td>\n",
              "      <td>104 min</td>\n",
              "      <td>Comedies, Dramas</td>\n",
              "      <td>A woman adjusting to life after a loss contend...</td>\n",
              "    </tr>\n",
              "    <tr>\n",
              "      <th>12</th>\n",
              "      <td>s13</td>\n",
              "      <td>Movie</td>\n",
              "      <td>Je Suis Karl</td>\n",
              "      <td>Christian Schwochow</td>\n",
              "      <td>Luna Wedler, Jannis Niewöhner, Milan Peschel, ...</td>\n",
              "      <td>Germany, Czech Republic</td>\n",
              "      <td>September 23, 2021</td>\n",
              "      <td>2021</td>\n",
              "      <td>TV-MA</td>\n",
              "      <td>127 min</td>\n",
              "      <td>Dramas, International Movies</td>\n",
              "      <td>After most of her family is murdered in a terr...</td>\n",
              "    </tr>\n",
              "  </tbody>\n",
              "</table>\n",
              "</div>\n",
              "      <button class=\"colab-df-convert\" onclick=\"convertToInteractive('df-8a8ebdc2-dc86-454b-bf43-53bde52a2e44')\"\n",
              "              title=\"Convert this dataframe to an interactive table.\"\n",
              "              style=\"display:none;\">\n",
              "        \n",
              "  <svg xmlns=\"http://www.w3.org/2000/svg\" height=\"24px\"viewBox=\"0 0 24 24\"\n",
              "       width=\"24px\">\n",
              "    <path d=\"M0 0h24v24H0V0z\" fill=\"none\"/>\n",
              "    <path d=\"M18.56 5.44l.94 2.06.94-2.06 2.06-.94-2.06-.94-.94-2.06-.94 2.06-2.06.94zm-11 1L8.5 8.5l.94-2.06 2.06-.94-2.06-.94L8.5 2.5l-.94 2.06-2.06.94zm10 10l.94 2.06.94-2.06 2.06-.94-2.06-.94-.94-2.06-.94 2.06-2.06.94z\"/><path d=\"M17.41 7.96l-1.37-1.37c-.4-.4-.92-.59-1.43-.59-.52 0-1.04.2-1.43.59L10.3 9.45l-7.72 7.72c-.78.78-.78 2.05 0 2.83L4 21.41c.39.39.9.59 1.41.59.51 0 1.02-.2 1.41-.59l7.78-7.78 2.81-2.81c.8-.78.8-2.07 0-2.86zM5.41 20L4 18.59l7.72-7.72 1.47 1.35L5.41 20z\"/>\n",
              "  </svg>\n",
              "      </button>\n",
              "      \n",
              "  <style>\n",
              "    .colab-df-container {\n",
              "      display:flex;\n",
              "      flex-wrap:wrap;\n",
              "      gap: 12px;\n",
              "    }\n",
              "\n",
              "    .colab-df-convert {\n",
              "      background-color: #E8F0FE;\n",
              "      border: none;\n",
              "      border-radius: 50%;\n",
              "      cursor: pointer;\n",
              "      display: none;\n",
              "      fill: #1967D2;\n",
              "      height: 32px;\n",
              "      padding: 0 0 0 0;\n",
              "      width: 32px;\n",
              "    }\n",
              "\n",
              "    .colab-df-convert:hover {\n",
              "      background-color: #E2EBFA;\n",
              "      box-shadow: 0px 1px 2px rgba(60, 64, 67, 0.3), 0px 1px 3px 1px rgba(60, 64, 67, 0.15);\n",
              "      fill: #174EA6;\n",
              "    }\n",
              "\n",
              "    [theme=dark] .colab-df-convert {\n",
              "      background-color: #3B4455;\n",
              "      fill: #D2E3FC;\n",
              "    }\n",
              "\n",
              "    [theme=dark] .colab-df-convert:hover {\n",
              "      background-color: #434B5C;\n",
              "      box-shadow: 0px 1px 3px 1px rgba(0, 0, 0, 0.15);\n",
              "      filter: drop-shadow(0px 1px 2px rgba(0, 0, 0, 0.3));\n",
              "      fill: #FFFFFF;\n",
              "    }\n",
              "  </style>\n",
              "\n",
              "      <script>\n",
              "        const buttonEl =\n",
              "          document.querySelector('#df-8a8ebdc2-dc86-454b-bf43-53bde52a2e44 button.colab-df-convert');\n",
              "        buttonEl.style.display =\n",
              "          google.colab.kernel.accessAllowed ? 'block' : 'none';\n",
              "\n",
              "        async function convertToInteractive(key) {\n",
              "          const element = document.querySelector('#df-8a8ebdc2-dc86-454b-bf43-53bde52a2e44');\n",
              "          const dataTable =\n",
              "            await google.colab.kernel.invokeFunction('convertToInteractive',\n",
              "                                                     [key], {});\n",
              "          if (!dataTable) return;\n",
              "\n",
              "          const docLinkHtml = 'Like what you see? Visit the ' +\n",
              "            '<a target=\"_blank\" href=https://colab.research.google.com/notebooks/data_table.ipynb>data table notebook</a>'\n",
              "            + ' to learn more about interactive tables.';\n",
              "          element.innerHTML = '';\n",
              "          dataTable['output_type'] = 'display_data';\n",
              "          await google.colab.output.renderOutput(dataTable, element);\n",
              "          const docLink = document.createElement('div');\n",
              "          docLink.innerHTML = docLinkHtml;\n",
              "          element.appendChild(docLink);\n",
              "        }\n",
              "      </script>\n",
              "    </div>\n",
              "  </div>\n",
              "  "
            ],
            "text/plain": [
              "   show_id  ...                                        description\n",
              "0       s1  ...  As her father nears the end of his life, filmm...\n",
              "6       s7  ...  Equestria's divided. But a bright-eyed hero be...\n",
              "7       s8  ...  On a photo shoot in Ghana, an American model s...\n",
              "9      s10  ...  A woman adjusting to life after a loss contend...\n",
              "12     s13  ...  After most of her family is murdered in a terr...\n",
              "\n",
              "[5 rows x 12 columns]"
            ]
          },
          "metadata": {},
          "execution_count": 10
        }
      ]
    },
    {
      "cell_type": "code",
      "metadata": {
        "id": "pzxLMKf1TSUf",
        "execution": {
          "iopub.status.busy": "2021-11-10T16:06:45.369278Z",
          "iopub.execute_input": "2021-11-10T16:06:45.369837Z",
          "iopub.status.idle": "2021-11-10T16:06:45.390389Z",
          "shell.execute_reply.started": "2021-11-10T16:06:45.369792Z",
          "shell.execute_reply": "2021-11-10T16:06:45.389765Z"
        },
        "trusted": true,
        "colab": {
          "base_uri": "https://localhost:8080/"
        },
        "outputId": "51e63621-98c5-4489-ef98-1a7bd9f16b09"
      },
      "source": [
        "Netflix_Movie_data.isnull().sum()"
      ],
      "execution_count": 11,
      "outputs": [
        {
          "output_type": "execute_result",
          "data": {
            "text/plain": [
              "show_id           0\n",
              "type              0\n",
              "title             0\n",
              "director        188\n",
              "cast            475\n",
              "country         440\n",
              "date_added        0\n",
              "release_year      0\n",
              "rating            2\n",
              "duration          3\n",
              "listed_in         0\n",
              "description       0\n",
              "dtype: int64"
            ]
          },
          "metadata": {},
          "execution_count": 11
        }
      ]
    },
    {
      "cell_type": "code",
      "metadata": {
        "id": "8ZJA-9JPTSsG",
        "execution": {
          "iopub.status.busy": "2021-11-10T16:06:45.391575Z",
          "iopub.execute_input": "2021-11-10T16:06:45.391976Z",
          "iopub.status.idle": "2021-11-10T16:06:45.400326Z",
          "shell.execute_reply.started": "2021-11-10T16:06:45.391945Z",
          "shell.execute_reply": "2021-11-10T16:06:45.399757Z"
        },
        "trusted": true,
        "colab": {
          "base_uri": "https://localhost:8080/"
        },
        "outputId": "72d78507-292d-4e58-af3a-172b40b97a60"
      },
      "source": [
        "Netflix_Movie_data.duration.value_counts()[:1]"
      ],
      "execution_count": 12,
      "outputs": [
        {
          "output_type": "execute_result",
          "data": {
            "text/plain": [
              "90 min    152\n",
              "Name: duration, dtype: int64"
            ]
          },
          "metadata": {},
          "execution_count": 12
        }
      ]
    },
    {
      "cell_type": "code",
      "metadata": {
        "id": "_HVS9xWOTSuX",
        "execution": {
          "iopub.status.busy": "2021-11-10T16:06:45.402861Z",
          "iopub.execute_input": "2021-11-10T16:06:45.403564Z",
          "iopub.status.idle": "2021-11-10T16:06:45.412582Z",
          "shell.execute_reply.started": "2021-11-10T16:06:45.403516Z",
          "shell.execute_reply": "2021-11-10T16:06:45.411779Z"
        },
        "trusted": true
      },
      "source": [
        "Netflix_Movie_data.duration.fillna('90 min',inplace=True)"
      ],
      "execution_count": 13,
      "outputs": []
    },
    {
      "cell_type": "code",
      "metadata": {
        "id": "6rZScVFNTSyo",
        "execution": {
          "iopub.status.busy": "2021-11-10T16:06:45.41359Z",
          "iopub.execute_input": "2021-11-10T16:06:45.41423Z",
          "iopub.status.idle": "2021-11-10T16:06:45.427009Z",
          "shell.execute_reply.started": "2021-11-10T16:06:45.414192Z",
          "shell.execute_reply": "2021-11-10T16:06:45.426257Z"
        },
        "trusted": true,
        "colab": {
          "base_uri": "https://localhost:8080/"
        },
        "outputId": "a6e667ab-220b-40aa-e8f6-5df8ff2f9da2"
      },
      "source": [
        "Netflix_Movie_data.rating.value_counts()"
      ],
      "execution_count": 14,
      "outputs": [
        {
          "output_type": "execute_result",
          "data": {
            "text/plain": [
              "TV-MA       2062\n",
              "TV-14       1427\n",
              "R            797\n",
              "TV-PG        540\n",
              "PG-13        490\n",
              "PG           287\n",
              "TV-Y7        139\n",
              "TV-Y         131\n",
              "TV-G         126\n",
              "NR            75\n",
              "G             41\n",
              "TV-Y7-FV       5\n",
              "UR             3\n",
              "NC-17          3\n",
              "74 min         1\n",
              "66 min         1\n",
              "84 min         1\n",
              "Name: rating, dtype: int64"
            ]
          },
          "metadata": {},
          "execution_count": 14
        }
      ]
    },
    {
      "cell_type": "code",
      "metadata": {
        "id": "zdIXUlcJTS1X",
        "execution": {
          "iopub.status.busy": "2021-11-10T16:06:45.428524Z",
          "iopub.execute_input": "2021-11-10T16:06:45.42883Z",
          "iopub.status.idle": "2021-11-10T16:06:45.439494Z",
          "shell.execute_reply.started": "2021-11-10T16:06:45.4288Z",
          "shell.execute_reply": "2021-11-10T16:06:45.438706Z"
        },
        "trusted": true
      },
      "source": [
        "Netflix_Movie_data.rating.fillna('TV-PG',inplace=True)"
      ],
      "execution_count": 15,
      "outputs": []
    },
    {
      "cell_type": "code",
      "metadata": {
        "id": "qSHNffYPWM5H",
        "execution": {
          "iopub.status.busy": "2021-11-10T16:06:45.440931Z",
          "iopub.execute_input": "2021-11-10T16:06:45.441416Z",
          "iopub.status.idle": "2021-11-10T16:06:45.455841Z",
          "shell.execute_reply.started": "2021-11-10T16:06:45.441372Z",
          "shell.execute_reply": "2021-11-10T16:06:45.454965Z"
        },
        "trusted": true
      },
      "source": [
        "Netflix_Movie_data.loc[Netflix_Movie_data.query('rating in [\"84 min\",\"66 min\",\"74 min\"]').index,'rating'] = 'TV-PG'"
      ],
      "execution_count": 16,
      "outputs": []
    },
    {
      "cell_type": "code",
      "metadata": {
        "id": "cvxD0ssKYbU_",
        "execution": {
          "iopub.status.busy": "2021-11-10T16:06:45.457426Z",
          "iopub.execute_input": "2021-11-10T16:06:45.458123Z",
          "iopub.status.idle": "2021-11-10T16:06:45.470701Z",
          "shell.execute_reply.started": "2021-11-10T16:06:45.458078Z",
          "shell.execute_reply": "2021-11-10T16:06:45.469959Z"
        },
        "trusted": true,
        "colab": {
          "base_uri": "https://localhost:8080/"
        },
        "outputId": "594ae0e7-7f29-45d1-9a64-c48bbda82495"
      },
      "source": [
        "Netflix_Movie_data.country.value_counts()"
      ],
      "execution_count": 17,
      "outputs": [
        {
          "output_type": "execute_result",
          "data": {
            "text/plain": [
              "United States                                   2058\n",
              "India                                            893\n",
              "United Kingdom                                   206\n",
              "Canada                                           122\n",
              "Spain                                             97\n",
              "                                                ... \n",
              "Denmark, United Kingdom, Sweden                    1\n",
              "Germany, United States, Hong Kong, Singapore       1\n",
              "United States, Venezuela                           1\n",
              "France, Germany, Czech Republic, Belgium           1\n",
              "Serbia, South Korea, Slovenia                      1\n",
              "Name: country, Length: 651, dtype: int64"
            ]
          },
          "metadata": {},
          "execution_count": 17
        }
      ]
    },
    {
      "cell_type": "code",
      "metadata": {
        "id": "sfN3RA1GTS8s",
        "execution": {
          "iopub.status.busy": "2021-11-10T16:06:45.471955Z",
          "iopub.execute_input": "2021-11-10T16:06:45.472179Z",
          "iopub.status.idle": "2021-11-10T16:06:45.478512Z",
          "shell.execute_reply.started": "2021-11-10T16:06:45.472146Z",
          "shell.execute_reply": "2021-11-10T16:06:45.477427Z"
        },
        "trusted": true
      },
      "source": [
        "Netflix_Movie_data.country.fillna('India',inplace=True)"
      ],
      "execution_count": 18,
      "outputs": []
    },
    {
      "cell_type": "code",
      "metadata": {
        "id": "a4mBepauTS_g",
        "execution": {
          "iopub.status.busy": "2021-11-10T16:06:45.479661Z",
          "iopub.execute_input": "2021-11-10T16:06:45.479924Z",
          "iopub.status.idle": "2021-11-10T16:06:45.495586Z",
          "shell.execute_reply.started": "2021-11-10T16:06:45.479883Z",
          "shell.execute_reply": "2021-11-10T16:06:45.494311Z"
        },
        "trusted": true
      },
      "source": [
        "Netflix_Movie_data['country'] = Netflix_Movie_data.country.apply(lambda x: x.split(', '))"
      ],
      "execution_count": 19,
      "outputs": []
    },
    {
      "cell_type": "code",
      "metadata": {
        "id": "3ZXWRrOAZMQk",
        "execution": {
          "iopub.status.busy": "2021-11-10T16:06:45.496678Z",
          "iopub.execute_input": "2021-11-10T16:06:45.497264Z",
          "iopub.status.idle": "2021-11-10T16:06:45.5103Z",
          "shell.execute_reply.started": "2021-11-10T16:06:45.497231Z",
          "shell.execute_reply": "2021-11-10T16:06:45.509465Z"
        },
        "trusted": true
      },
      "source": [
        "Netflix_Movie_data = Netflix_Movie_data[~Netflix_Movie_data.director.isna()]"
      ],
      "execution_count": 20,
      "outputs": []
    },
    {
      "cell_type": "code",
      "metadata": {
        "id": "6HRFJKx0oapb",
        "execution": {
          "iopub.status.busy": "2021-11-10T16:06:45.51154Z",
          "iopub.execute_input": "2021-11-10T16:06:45.511919Z",
          "iopub.status.idle": "2021-11-10T16:06:45.523825Z",
          "shell.execute_reply.started": "2021-11-10T16:06:45.511866Z",
          "shell.execute_reply": "2021-11-10T16:06:45.523126Z"
        },
        "trusted": true
      },
      "source": [
        "Netflix_Movie_data = Netflix_Movie_data[~Netflix_Movie_data.cast.isna()]"
      ],
      "execution_count": 21,
      "outputs": []
    },
    {
      "cell_type": "code",
      "metadata": {
        "id": "p51jKTldTTBg",
        "execution": {
          "iopub.status.busy": "2021-11-10T16:06:45.524848Z",
          "iopub.execute_input": "2021-11-10T16:06:45.525561Z",
          "iopub.status.idle": "2021-11-10T16:06:45.540305Z",
          "shell.execute_reply.started": "2021-11-10T16:06:45.525524Z",
          "shell.execute_reply": "2021-11-10T16:06:45.539427Z"
        },
        "trusted": true,
        "colab": {
          "base_uri": "https://localhost:8080/"
        },
        "outputId": "56a0d799-083d-486a-9e20-169e779b242f"
      },
      "source": [
        "Netflix_Movie_data['director'] = Netflix_Movie_data.director.apply(lambda x: x.split(', '))"
      ],
      "execution_count": 22,
      "outputs": [
        {
          "output_type": "stream",
          "name": "stderr",
          "text": [
            "/usr/local/lib/python3.7/dist-packages/ipykernel_launcher.py:1: SettingWithCopyWarning: \n",
            "A value is trying to be set on a copy of a slice from a DataFrame.\n",
            "Try using .loc[row_indexer,col_indexer] = value instead\n",
            "\n",
            "See the caveats in the documentation: https://pandas.pydata.org/pandas-docs/stable/user_guide/indexing.html#returning-a-view-versus-a-copy\n",
            "  \"\"\"Entry point for launching an IPython kernel.\n"
          ]
        }
      ]
    },
    {
      "cell_type": "code",
      "metadata": {
        "id": "JPBWxDl1TTGk",
        "execution": {
          "iopub.status.busy": "2021-11-10T16:06:45.541944Z",
          "iopub.execute_input": "2021-11-10T16:06:45.542367Z",
          "iopub.status.idle": "2021-11-10T16:06:45.559382Z",
          "shell.execute_reply.started": "2021-11-10T16:06:45.542325Z",
          "shell.execute_reply": "2021-11-10T16:06:45.558351Z"
        },
        "trusted": true,
        "colab": {
          "base_uri": "https://localhost:8080/"
        },
        "outputId": "ad0eaa2c-f3fa-4fc0-a7c9-752a77e87630"
      },
      "source": [
        "Netflix_Movie_data['cast'] = Netflix_Movie_data.cast.apply(lambda x: x.split(', '))"
      ],
      "execution_count": 23,
      "outputs": [
        {
          "output_type": "stream",
          "name": "stderr",
          "text": [
            "/usr/local/lib/python3.7/dist-packages/ipykernel_launcher.py:1: SettingWithCopyWarning: \n",
            "A value is trying to be set on a copy of a slice from a DataFrame.\n",
            "Try using .loc[row_indexer,col_indexer] = value instead\n",
            "\n",
            "See the caveats in the documentation: https://pandas.pydata.org/pandas-docs/stable/user_guide/indexing.html#returning-a-view-versus-a-copy\n",
            "  \"\"\"Entry point for launching an IPython kernel.\n"
          ]
        }
      ]
    },
    {
      "cell_type": "code",
      "metadata": {
        "id": "JZ05ky_WpX7_",
        "execution": {
          "iopub.status.busy": "2021-11-10T16:06:45.560836Z",
          "iopub.execute_input": "2021-11-10T16:06:45.561585Z",
          "iopub.status.idle": "2021-11-10T16:06:45.576587Z",
          "shell.execute_reply.started": "2021-11-10T16:06:45.561538Z",
          "shell.execute_reply": "2021-11-10T16:06:45.575961Z"
        },
        "trusted": true,
        "colab": {
          "base_uri": "https://localhost:8080/"
        },
        "outputId": "0402ffd2-db36-4518-e5c2-c45f25c7f416"
      },
      "source": [
        "Netflix_Movie_data['listed_in'] = Netflix_Movie_data.listed_in.apply(lambda x: x.split(', '))"
      ],
      "execution_count": 24,
      "outputs": [
        {
          "output_type": "stream",
          "name": "stderr",
          "text": [
            "/usr/local/lib/python3.7/dist-packages/ipykernel_launcher.py:1: SettingWithCopyWarning: \n",
            "A value is trying to be set on a copy of a slice from a DataFrame.\n",
            "Try using .loc[row_indexer,col_indexer] = value instead\n",
            "\n",
            "See the caveats in the documentation: https://pandas.pydata.org/pandas-docs/stable/user_guide/indexing.html#returning-a-view-versus-a-copy\n",
            "  \"\"\"Entry point for launching an IPython kernel.\n"
          ]
        }
      ]
    },
    {
      "cell_type": "code",
      "metadata": {
        "id": "v-VSQao_TTJB",
        "execution": {
          "iopub.status.busy": "2021-11-10T16:06:45.577622Z",
          "iopub.execute_input": "2021-11-10T16:06:45.577985Z",
          "iopub.status.idle": "2021-11-10T16:06:45.750684Z",
          "shell.execute_reply.started": "2021-11-10T16:06:45.577955Z",
          "shell.execute_reply": "2021-11-10T16:06:45.749809Z"
        },
        "trusted": true
      },
      "source": [
        "Netflix_Movie_data.date_added = pd.to_datetime(Netflix_Movie_data.date_added)"
      ],
      "execution_count": 25,
      "outputs": []
    },
    {
      "cell_type": "code",
      "metadata": {
        "id": "DHohSh-Vo5wb",
        "execution": {
          "iopub.status.busy": "2021-11-10T16:06:45.752244Z",
          "iopub.execute_input": "2021-11-10T16:06:45.752838Z",
          "iopub.status.idle": "2021-11-10T16:06:45.760776Z",
          "shell.execute_reply.started": "2021-11-10T16:06:45.752788Z",
          "shell.execute_reply": "2021-11-10T16:06:45.759963Z"
        },
        "trusted": true
      },
      "source": [
        "Netflix_Movie_data.drop(['show_id','description','type'],axis=1,inplace=True)"
      ],
      "execution_count": 26,
      "outputs": []
    },
    {
      "cell_type": "code",
      "metadata": {
        "id": "7_hvXQzvpHmQ",
        "execution": {
          "iopub.status.busy": "2021-11-10T16:06:45.761869Z",
          "iopub.execute_input": "2021-11-10T16:06:45.762141Z",
          "iopub.status.idle": "2021-11-10T16:06:45.794856Z",
          "shell.execute_reply.started": "2021-11-10T16:06:45.762111Z",
          "shell.execute_reply": "2021-11-10T16:06:45.79405Z"
        },
        "trusted": true,
        "colab": {
          "base_uri": "https://localhost:8080/",
          "height": 337
        },
        "outputId": "0230d173-fb36-4972-ac6f-d9572cd6eb4e"
      },
      "source": [
        "Netflix_Movie_data.query('date_added.dt.year != release_year').head()"
      ],
      "execution_count": 27,
      "outputs": [
        {
          "output_type": "execute_result",
          "data": {
            "text/html": [
              "\n",
              "  <div id=\"df-16146a7c-f174-4a67-9ac5-f517fb2d74e8\">\n",
              "    <div class=\"colab-df-container\">\n",
              "      <div>\n",
              "<style scoped>\n",
              "    .dataframe tbody tr th:only-of-type {\n",
              "        vertical-align: middle;\n",
              "    }\n",
              "\n",
              "    .dataframe tbody tr th {\n",
              "        vertical-align: top;\n",
              "    }\n",
              "\n",
              "    .dataframe thead th {\n",
              "        text-align: right;\n",
              "    }\n",
              "</style>\n",
              "<table border=\"1\" class=\"dataframe\">\n",
              "  <thead>\n",
              "    <tr style=\"text-align: right;\">\n",
              "      <th></th>\n",
              "      <th>title</th>\n",
              "      <th>director</th>\n",
              "      <th>cast</th>\n",
              "      <th>country</th>\n",
              "      <th>date_added</th>\n",
              "      <th>release_year</th>\n",
              "      <th>rating</th>\n",
              "      <th>duration</th>\n",
              "      <th>listed_in</th>\n",
              "    </tr>\n",
              "  </thead>\n",
              "  <tbody>\n",
              "    <tr>\n",
              "      <th>7</th>\n",
              "      <td>Sankofa</td>\n",
              "      <td>[Haile Gerima]</td>\n",
              "      <td>[Kofi Ghanaba, Oyafunmike Ogunlano, Alexandra ...</td>\n",
              "      <td>[United States, Ghana, Burkina Faso, United Ki...</td>\n",
              "      <td>2021-09-24</td>\n",
              "      <td>1993</td>\n",
              "      <td>TV-MA</td>\n",
              "      <td>125 min</td>\n",
              "      <td>[Dramas, Independent Movies, International Mov...</td>\n",
              "    </tr>\n",
              "    <tr>\n",
              "      <th>22</th>\n",
              "      <td>Avvai Shanmughi</td>\n",
              "      <td>[K.S. Ravikumar]</td>\n",
              "      <td>[Kamal Hassan, Meena, Gemini Ganesan, Heera Ra...</td>\n",
              "      <td>[India]</td>\n",
              "      <td>2021-09-21</td>\n",
              "      <td>1996</td>\n",
              "      <td>TV-PG</td>\n",
              "      <td>161 min</td>\n",
              "      <td>[Comedies, International Movies]</td>\n",
              "    </tr>\n",
              "    <tr>\n",
              "      <th>24</th>\n",
              "      <td>Jeans</td>\n",
              "      <td>[S. Shankar]</td>\n",
              "      <td>[Prashanth, Aishwarya Rai Bachchan, Sri Lakshm...</td>\n",
              "      <td>[India]</td>\n",
              "      <td>2021-09-21</td>\n",
              "      <td>1998</td>\n",
              "      <td>TV-14</td>\n",
              "      <td>166 min</td>\n",
              "      <td>[Comedies, International Movies, Romantic Movies]</td>\n",
              "    </tr>\n",
              "    <tr>\n",
              "      <th>26</th>\n",
              "      <td>Minsara Kanavu</td>\n",
              "      <td>[Rajiv Menon]</td>\n",
              "      <td>[Arvind Swamy, Kajol, Prabhu Deva, Nassar, S.P...</td>\n",
              "      <td>[India]</td>\n",
              "      <td>2021-09-21</td>\n",
              "      <td>1997</td>\n",
              "      <td>TV-PG</td>\n",
              "      <td>147 min</td>\n",
              "      <td>[Comedies, International Movies, Music &amp; Music...</td>\n",
              "    </tr>\n",
              "    <tr>\n",
              "      <th>27</th>\n",
              "      <td>Grown Ups</td>\n",
              "      <td>[Dennis Dugan]</td>\n",
              "      <td>[Adam Sandler, Kevin James, Chris Rock, David ...</td>\n",
              "      <td>[United States]</td>\n",
              "      <td>2021-09-20</td>\n",
              "      <td>2010</td>\n",
              "      <td>PG-13</td>\n",
              "      <td>103 min</td>\n",
              "      <td>[Comedies]</td>\n",
              "    </tr>\n",
              "  </tbody>\n",
              "</table>\n",
              "</div>\n",
              "      <button class=\"colab-df-convert\" onclick=\"convertToInteractive('df-16146a7c-f174-4a67-9ac5-f517fb2d74e8')\"\n",
              "              title=\"Convert this dataframe to an interactive table.\"\n",
              "              style=\"display:none;\">\n",
              "        \n",
              "  <svg xmlns=\"http://www.w3.org/2000/svg\" height=\"24px\"viewBox=\"0 0 24 24\"\n",
              "       width=\"24px\">\n",
              "    <path d=\"M0 0h24v24H0V0z\" fill=\"none\"/>\n",
              "    <path d=\"M18.56 5.44l.94 2.06.94-2.06 2.06-.94-2.06-.94-.94-2.06-.94 2.06-2.06.94zm-11 1L8.5 8.5l.94-2.06 2.06-.94-2.06-.94L8.5 2.5l-.94 2.06-2.06.94zm10 10l.94 2.06.94-2.06 2.06-.94-2.06-.94-.94-2.06-.94 2.06-2.06.94z\"/><path d=\"M17.41 7.96l-1.37-1.37c-.4-.4-.92-.59-1.43-.59-.52 0-1.04.2-1.43.59L10.3 9.45l-7.72 7.72c-.78.78-.78 2.05 0 2.83L4 21.41c.39.39.9.59 1.41.59.51 0 1.02-.2 1.41-.59l7.78-7.78 2.81-2.81c.8-.78.8-2.07 0-2.86zM5.41 20L4 18.59l7.72-7.72 1.47 1.35L5.41 20z\"/>\n",
              "  </svg>\n",
              "      </button>\n",
              "      \n",
              "  <style>\n",
              "    .colab-df-container {\n",
              "      display:flex;\n",
              "      flex-wrap:wrap;\n",
              "      gap: 12px;\n",
              "    }\n",
              "\n",
              "    .colab-df-convert {\n",
              "      background-color: #E8F0FE;\n",
              "      border: none;\n",
              "      border-radius: 50%;\n",
              "      cursor: pointer;\n",
              "      display: none;\n",
              "      fill: #1967D2;\n",
              "      height: 32px;\n",
              "      padding: 0 0 0 0;\n",
              "      width: 32px;\n",
              "    }\n",
              "\n",
              "    .colab-df-convert:hover {\n",
              "      background-color: #E2EBFA;\n",
              "      box-shadow: 0px 1px 2px rgba(60, 64, 67, 0.3), 0px 1px 3px 1px rgba(60, 64, 67, 0.15);\n",
              "      fill: #174EA6;\n",
              "    }\n",
              "\n",
              "    [theme=dark] .colab-df-convert {\n",
              "      background-color: #3B4455;\n",
              "      fill: #D2E3FC;\n",
              "    }\n",
              "\n",
              "    [theme=dark] .colab-df-convert:hover {\n",
              "      background-color: #434B5C;\n",
              "      box-shadow: 0px 1px 3px 1px rgba(0, 0, 0, 0.15);\n",
              "      filter: drop-shadow(0px 1px 2px rgba(0, 0, 0, 0.3));\n",
              "      fill: #FFFFFF;\n",
              "    }\n",
              "  </style>\n",
              "\n",
              "      <script>\n",
              "        const buttonEl =\n",
              "          document.querySelector('#df-16146a7c-f174-4a67-9ac5-f517fb2d74e8 button.colab-df-convert');\n",
              "        buttonEl.style.display =\n",
              "          google.colab.kernel.accessAllowed ? 'block' : 'none';\n",
              "\n",
              "        async function convertToInteractive(key) {\n",
              "          const element = document.querySelector('#df-16146a7c-f174-4a67-9ac5-f517fb2d74e8');\n",
              "          const dataTable =\n",
              "            await google.colab.kernel.invokeFunction('convertToInteractive',\n",
              "                                                     [key], {});\n",
              "          if (!dataTable) return;\n",
              "\n",
              "          const docLinkHtml = 'Like what you see? Visit the ' +\n",
              "            '<a target=\"_blank\" href=https://colab.research.google.com/notebooks/data_table.ipynb>data table notebook</a>'\n",
              "            + ' to learn more about interactive tables.';\n",
              "          element.innerHTML = '';\n",
              "          dataTable['output_type'] = 'display_data';\n",
              "          await google.colab.output.renderOutput(dataTable, element);\n",
              "          const docLink = document.createElement('div');\n",
              "          docLink.innerHTML = docLinkHtml;\n",
              "          element.appendChild(docLink);\n",
              "        }\n",
              "      </script>\n",
              "    </div>\n",
              "  </div>\n",
              "  "
            ],
            "text/plain": [
              "              title  ...                                          listed_in\n",
              "7           Sankofa  ...  [Dramas, Independent Movies, International Mov...\n",
              "22  Avvai Shanmughi  ...                   [Comedies, International Movies]\n",
              "24            Jeans  ...  [Comedies, International Movies, Romantic Movies]\n",
              "26   Minsara Kanavu  ...  [Comedies, International Movies, Music & Music...\n",
              "27        Grown Ups  ...                                         [Comedies]\n",
              "\n",
              "[5 rows x 9 columns]"
            ]
          },
          "metadata": {},
          "execution_count": 27
        }
      ]
    },
    {
      "cell_type": "code",
      "metadata": {
        "id": "g64gIGRLTTLw",
        "execution": {
          "iopub.status.busy": "2021-11-10T16:06:45.796009Z",
          "iopub.execute_input": "2021-11-10T16:06:45.796233Z",
          "iopub.status.idle": "2021-11-10T16:06:45.802569Z",
          "shell.execute_reply.started": "2021-11-10T16:06:45.796206Z",
          "shell.execute_reply": "2021-11-10T16:06:45.801827Z"
        },
        "trusted": true
      },
      "source": [
        "Netflix_Movie_data.drop(['release_year'],axis=1,inplace=True)"
      ],
      "execution_count": 28,
      "outputs": []
    },
    {
      "cell_type": "code",
      "metadata": {
        "id": "5_h8ZUzJTTOK",
        "execution": {
          "iopub.status.busy": "2021-11-10T16:06:45.803864Z",
          "iopub.execute_input": "2021-11-10T16:06:45.804541Z",
          "iopub.status.idle": "2021-11-10T16:06:45.819743Z",
          "shell.execute_reply.started": "2021-11-10T16:06:45.804493Z",
          "shell.execute_reply": "2021-11-10T16:06:45.818974Z"
        },
        "trusted": true
      },
      "source": [
        "Netflix_Movie_data['duration_in_min'] = Netflix_Movie_data.duration.apply(lambda x: x.split(' ')[0])"
      ],
      "execution_count": 29,
      "outputs": []
    },
    {
      "cell_type": "code",
      "metadata": {
        "id": "IPobJsVWqq_K",
        "execution": {
          "iopub.status.busy": "2021-11-10T16:06:45.821322Z",
          "iopub.execute_input": "2021-11-10T16:06:45.821818Z",
          "iopub.status.idle": "2021-11-10T16:06:45.834783Z",
          "shell.execute_reply.started": "2021-11-10T16:06:45.821767Z",
          "shell.execute_reply": "2021-11-10T16:06:45.833939Z"
        },
        "trusted": true
      },
      "source": [
        "Netflix_Movie_data.drop(['duration'],axis=1,inplace=True)"
      ],
      "execution_count": 30,
      "outputs": []
    },
    {
      "cell_type": "code",
      "metadata": {
        "id": "XOiW1OoRTTRA",
        "execution": {
          "iopub.status.busy": "2021-11-10T16:06:45.840308Z",
          "iopub.execute_input": "2021-11-10T16:06:45.840746Z",
          "iopub.status.idle": "2021-11-10T16:06:45.845761Z",
          "shell.execute_reply.started": "2021-11-10T16:06:45.840712Z",
          "shell.execute_reply": "2021-11-10T16:06:45.844979Z"
        },
        "trusted": true
      },
      "source": [
        "Netflix_Movie_data.set_index('date_added',drop=True,inplace=True)"
      ],
      "execution_count": 31,
      "outputs": []
    },
    {
      "cell_type": "code",
      "metadata": {
        "id": "_mbx0B0IrBxb",
        "execution": {
          "iopub.status.busy": "2021-11-10T16:06:45.847211Z",
          "iopub.execute_input": "2021-11-10T16:06:45.847429Z",
          "iopub.status.idle": "2021-11-10T16:06:45.873942Z",
          "shell.execute_reply.started": "2021-11-10T16:06:45.847402Z",
          "shell.execute_reply": "2021-11-10T16:06:45.873316Z"
        },
        "trusted": true,
        "colab": {
          "base_uri": "https://localhost:8080/",
          "height": 368
        },
        "outputId": "dba8a749-507e-4d74-fa4f-adb07fd2bd3e"
      },
      "source": [
        "Netflix_Movie_data.head()"
      ],
      "execution_count": 32,
      "outputs": [
        {
          "output_type": "execute_result",
          "data": {
            "text/html": [
              "\n",
              "  <div id=\"df-6731f2c5-a782-479f-9d02-f198448270eb\">\n",
              "    <div class=\"colab-df-container\">\n",
              "      <div>\n",
              "<style scoped>\n",
              "    .dataframe tbody tr th:only-of-type {\n",
              "        vertical-align: middle;\n",
              "    }\n",
              "\n",
              "    .dataframe tbody tr th {\n",
              "        vertical-align: top;\n",
              "    }\n",
              "\n",
              "    .dataframe thead th {\n",
              "        text-align: right;\n",
              "    }\n",
              "</style>\n",
              "<table border=\"1\" class=\"dataframe\">\n",
              "  <thead>\n",
              "    <tr style=\"text-align: right;\">\n",
              "      <th></th>\n",
              "      <th>title</th>\n",
              "      <th>director</th>\n",
              "      <th>cast</th>\n",
              "      <th>country</th>\n",
              "      <th>rating</th>\n",
              "      <th>listed_in</th>\n",
              "      <th>duration_in_min</th>\n",
              "    </tr>\n",
              "    <tr>\n",
              "      <th>date_added</th>\n",
              "      <th></th>\n",
              "      <th></th>\n",
              "      <th></th>\n",
              "      <th></th>\n",
              "      <th></th>\n",
              "      <th></th>\n",
              "      <th></th>\n",
              "    </tr>\n",
              "  </thead>\n",
              "  <tbody>\n",
              "    <tr>\n",
              "      <th>2021-09-24</th>\n",
              "      <td>My Little Pony: A New Generation</td>\n",
              "      <td>[Robert Cullen, José Luis Ucha]</td>\n",
              "      <td>[Vanessa Hudgens, Kimiko Glenn, James Marsden,...</td>\n",
              "      <td>[India]</td>\n",
              "      <td>PG</td>\n",
              "      <td>[Children &amp; Family Movies]</td>\n",
              "      <td>91</td>\n",
              "    </tr>\n",
              "    <tr>\n",
              "      <th>2021-09-24</th>\n",
              "      <td>Sankofa</td>\n",
              "      <td>[Haile Gerima]</td>\n",
              "      <td>[Kofi Ghanaba, Oyafunmike Ogunlano, Alexandra ...</td>\n",
              "      <td>[United States, Ghana, Burkina Faso, United Ki...</td>\n",
              "      <td>TV-MA</td>\n",
              "      <td>[Dramas, Independent Movies, International Mov...</td>\n",
              "      <td>125</td>\n",
              "    </tr>\n",
              "    <tr>\n",
              "      <th>2021-09-24</th>\n",
              "      <td>The Starling</td>\n",
              "      <td>[Theodore Melfi]</td>\n",
              "      <td>[Melissa McCarthy, Chris O'Dowd, Kevin Kline, ...</td>\n",
              "      <td>[United States]</td>\n",
              "      <td>PG-13</td>\n",
              "      <td>[Comedies, Dramas]</td>\n",
              "      <td>104</td>\n",
              "    </tr>\n",
              "    <tr>\n",
              "      <th>2021-09-23</th>\n",
              "      <td>Je Suis Karl</td>\n",
              "      <td>[Christian Schwochow]</td>\n",
              "      <td>[Luna Wedler, Jannis Niewöhner, Milan Peschel,...</td>\n",
              "      <td>[Germany, Czech Republic]</td>\n",
              "      <td>TV-MA</td>\n",
              "      <td>[Dramas, International Movies]</td>\n",
              "      <td>127</td>\n",
              "    </tr>\n",
              "    <tr>\n",
              "      <th>2021-09-22</th>\n",
              "      <td>Confessions of an Invisible Girl</td>\n",
              "      <td>[Bruno Garotti]</td>\n",
              "      <td>[Klara Castanho, Lucca Picon, Júlia Gomes, Mar...</td>\n",
              "      <td>[India]</td>\n",
              "      <td>TV-PG</td>\n",
              "      <td>[Children &amp; Family Movies, Comedies]</td>\n",
              "      <td>91</td>\n",
              "    </tr>\n",
              "  </tbody>\n",
              "</table>\n",
              "</div>\n",
              "      <button class=\"colab-df-convert\" onclick=\"convertToInteractive('df-6731f2c5-a782-479f-9d02-f198448270eb')\"\n",
              "              title=\"Convert this dataframe to an interactive table.\"\n",
              "              style=\"display:none;\">\n",
              "        \n",
              "  <svg xmlns=\"http://www.w3.org/2000/svg\" height=\"24px\"viewBox=\"0 0 24 24\"\n",
              "       width=\"24px\">\n",
              "    <path d=\"M0 0h24v24H0V0z\" fill=\"none\"/>\n",
              "    <path d=\"M18.56 5.44l.94 2.06.94-2.06 2.06-.94-2.06-.94-.94-2.06-.94 2.06-2.06.94zm-11 1L8.5 8.5l.94-2.06 2.06-.94-2.06-.94L8.5 2.5l-.94 2.06-2.06.94zm10 10l.94 2.06.94-2.06 2.06-.94-2.06-.94-.94-2.06-.94 2.06-2.06.94z\"/><path d=\"M17.41 7.96l-1.37-1.37c-.4-.4-.92-.59-1.43-.59-.52 0-1.04.2-1.43.59L10.3 9.45l-7.72 7.72c-.78.78-.78 2.05 0 2.83L4 21.41c.39.39.9.59 1.41.59.51 0 1.02-.2 1.41-.59l7.78-7.78 2.81-2.81c.8-.78.8-2.07 0-2.86zM5.41 20L4 18.59l7.72-7.72 1.47 1.35L5.41 20z\"/>\n",
              "  </svg>\n",
              "      </button>\n",
              "      \n",
              "  <style>\n",
              "    .colab-df-container {\n",
              "      display:flex;\n",
              "      flex-wrap:wrap;\n",
              "      gap: 12px;\n",
              "    }\n",
              "\n",
              "    .colab-df-convert {\n",
              "      background-color: #E8F0FE;\n",
              "      border: none;\n",
              "      border-radius: 50%;\n",
              "      cursor: pointer;\n",
              "      display: none;\n",
              "      fill: #1967D2;\n",
              "      height: 32px;\n",
              "      padding: 0 0 0 0;\n",
              "      width: 32px;\n",
              "    }\n",
              "\n",
              "    .colab-df-convert:hover {\n",
              "      background-color: #E2EBFA;\n",
              "      box-shadow: 0px 1px 2px rgba(60, 64, 67, 0.3), 0px 1px 3px 1px rgba(60, 64, 67, 0.15);\n",
              "      fill: #174EA6;\n",
              "    }\n",
              "\n",
              "    [theme=dark] .colab-df-convert {\n",
              "      background-color: #3B4455;\n",
              "      fill: #D2E3FC;\n",
              "    }\n",
              "\n",
              "    [theme=dark] .colab-df-convert:hover {\n",
              "      background-color: #434B5C;\n",
              "      box-shadow: 0px 1px 3px 1px rgba(0, 0, 0, 0.15);\n",
              "      filter: drop-shadow(0px 1px 2px rgba(0, 0, 0, 0.3));\n",
              "      fill: #FFFFFF;\n",
              "    }\n",
              "  </style>\n",
              "\n",
              "      <script>\n",
              "        const buttonEl =\n",
              "          document.querySelector('#df-6731f2c5-a782-479f-9d02-f198448270eb button.colab-df-convert');\n",
              "        buttonEl.style.display =\n",
              "          google.colab.kernel.accessAllowed ? 'block' : 'none';\n",
              "\n",
              "        async function convertToInteractive(key) {\n",
              "          const element = document.querySelector('#df-6731f2c5-a782-479f-9d02-f198448270eb');\n",
              "          const dataTable =\n",
              "            await google.colab.kernel.invokeFunction('convertToInteractive',\n",
              "                                                     [key], {});\n",
              "          if (!dataTable) return;\n",
              "\n",
              "          const docLinkHtml = 'Like what you see? Visit the ' +\n",
              "            '<a target=\"_blank\" href=https://colab.research.google.com/notebooks/data_table.ipynb>data table notebook</a>'\n",
              "            + ' to learn more about interactive tables.';\n",
              "          element.innerHTML = '';\n",
              "          dataTable['output_type'] = 'display_data';\n",
              "          await google.colab.output.renderOutput(dataTable, element);\n",
              "          const docLink = document.createElement('div');\n",
              "          docLink.innerHTML = docLinkHtml;\n",
              "          element.appendChild(docLink);\n",
              "        }\n",
              "      </script>\n",
              "    </div>\n",
              "  </div>\n",
              "  "
            ],
            "text/plain": [
              "                                       title  ... duration_in_min\n",
              "date_added                                    ...                \n",
              "2021-09-24  My Little Pony: A New Generation  ...              91\n",
              "2021-09-24                           Sankofa  ...             125\n",
              "2021-09-24                      The Starling  ...             104\n",
              "2021-09-23                      Je Suis Karl  ...             127\n",
              "2021-09-22  Confessions of an Invisible Girl  ...              91\n",
              "\n",
              "[5 rows x 7 columns]"
            ]
          },
          "metadata": {},
          "execution_count": 32
        }
      ]
    },
    {
      "cell_type": "code",
      "metadata": {
        "id": "WRx-zZx0TTTw",
        "execution": {
          "iopub.status.busy": "2021-11-10T16:06:45.875001Z",
          "iopub.execute_input": "2021-11-10T16:06:45.875318Z",
          "iopub.status.idle": "2021-11-10T16:06:45.888747Z",
          "shell.execute_reply.started": "2021-11-10T16:06:45.87529Z",
          "shell.execute_reply": "2021-11-10T16:06:45.887841Z"
        },
        "trusted": true
      },
      "source": [
        "Netflix_Movie_data.sort_index(inplace=True)"
      ],
      "execution_count": 33,
      "outputs": []
    },
    {
      "cell_type": "code",
      "metadata": {
        "id": "MpEeT6gWrhBO",
        "execution": {
          "iopub.status.busy": "2021-11-10T16:06:45.889844Z",
          "iopub.execute_input": "2021-11-10T16:06:45.890177Z",
          "iopub.status.idle": "2021-11-10T16:06:45.900452Z",
          "shell.execute_reply.started": "2021-11-10T16:06:45.890149Z",
          "shell.execute_reply": "2021-11-10T16:06:45.899858Z"
        },
        "trusted": true
      },
      "source": [
        "Netflix_Movie_data.duration_in_min = Netflix_Movie_data.duration_in_min.astype('int')"
      ],
      "execution_count": 34,
      "outputs": []
    },
    {
      "cell_type": "code",
      "metadata": {
        "id": "sSulMWXbTTV0",
        "execution": {
          "iopub.status.busy": "2021-11-10T16:06:45.901454Z",
          "iopub.execute_input": "2021-11-10T16:06:45.901785Z",
          "iopub.status.idle": "2021-11-10T16:06:45.927998Z",
          "shell.execute_reply.started": "2021-11-10T16:06:45.901755Z",
          "shell.execute_reply": "2021-11-10T16:06:45.92714Z"
        },
        "trusted": true,
        "colab": {
          "base_uri": "https://localhost:8080/",
          "height": 238
        },
        "outputId": "394ab956-edda-483c-e1b1-c21649187e80"
      },
      "source": [
        "Netflix_Movie_data.head()"
      ],
      "execution_count": 35,
      "outputs": [
        {
          "output_type": "execute_result",
          "data": {
            "text/html": [
              "\n",
              "  <div id=\"df-710187dd-d02c-4085-a129-92a93ff7d125\">\n",
              "    <div class=\"colab-df-container\">\n",
              "      <div>\n",
              "<style scoped>\n",
              "    .dataframe tbody tr th:only-of-type {\n",
              "        vertical-align: middle;\n",
              "    }\n",
              "\n",
              "    .dataframe tbody tr th {\n",
              "        vertical-align: top;\n",
              "    }\n",
              "\n",
              "    .dataframe thead th {\n",
              "        text-align: right;\n",
              "    }\n",
              "</style>\n",
              "<table border=\"1\" class=\"dataframe\">\n",
              "  <thead>\n",
              "    <tr style=\"text-align: right;\">\n",
              "      <th></th>\n",
              "      <th>title</th>\n",
              "      <th>director</th>\n",
              "      <th>cast</th>\n",
              "      <th>country</th>\n",
              "      <th>rating</th>\n",
              "      <th>listed_in</th>\n",
              "      <th>duration_in_min</th>\n",
              "    </tr>\n",
              "    <tr>\n",
              "      <th>date_added</th>\n",
              "      <th></th>\n",
              "      <th></th>\n",
              "      <th></th>\n",
              "      <th></th>\n",
              "      <th></th>\n",
              "      <th></th>\n",
              "      <th></th>\n",
              "    </tr>\n",
              "  </thead>\n",
              "  <tbody>\n",
              "    <tr>\n",
              "      <th>2008-01-01</th>\n",
              "      <td>To and From New York</td>\n",
              "      <td>[Sorin Dan Mihalcescu]</td>\n",
              "      <td>[Barbara King, Shaana Diya, John Krisiukenas, ...</td>\n",
              "      <td>[United States]</td>\n",
              "      <td>TV-MA</td>\n",
              "      <td>[Dramas, Independent Movies, Thrillers]</td>\n",
              "      <td>81</td>\n",
              "    </tr>\n",
              "    <tr>\n",
              "      <th>2009-05-05</th>\n",
              "      <td>Just Another Love Story</td>\n",
              "      <td>[Ole Bornedal]</td>\n",
              "      <td>[Anders W. Berthelsen, Rebecka Hemse, Nikolaj ...</td>\n",
              "      <td>[Denmark]</td>\n",
              "      <td>TV-MA</td>\n",
              "      <td>[Dramas, International Movies]</td>\n",
              "      <td>104</td>\n",
              "    </tr>\n",
              "    <tr>\n",
              "      <th>2009-11-18</th>\n",
              "      <td>Splatter</td>\n",
              "      <td>[Joe Dante]</td>\n",
              "      <td>[Corey Feldman, Tony Todd, Tara Leigh, Erin Wa...</td>\n",
              "      <td>[United States]</td>\n",
              "      <td>TV-MA</td>\n",
              "      <td>[Horror Movies]</td>\n",
              "      <td>29</td>\n",
              "    </tr>\n",
              "    <tr>\n",
              "      <th>2010-11-01</th>\n",
              "      <td>Mad Ron's Prevues from Hell</td>\n",
              "      <td>[Jim Monaco]</td>\n",
              "      <td>[Nick Pawlow, Jordu Schell, Jay Kushwara, Mich...</td>\n",
              "      <td>[United States]</td>\n",
              "      <td>NR</td>\n",
              "      <td>[Cult Movies, Horror Movies]</td>\n",
              "      <td>84</td>\n",
              "    </tr>\n",
              "    <tr>\n",
              "      <th>2011-05-17</th>\n",
              "      <td>Even the Rain</td>\n",
              "      <td>[Icíar Bollaín]</td>\n",
              "      <td>[Luis Tosar, Gael García Bernal, Juan Carlos A...</td>\n",
              "      <td>[Spain, Mexico, France]</td>\n",
              "      <td>TV-MA</td>\n",
              "      <td>[Dramas, International Movies]</td>\n",
              "      <td>103</td>\n",
              "    </tr>\n",
              "  </tbody>\n",
              "</table>\n",
              "</div>\n",
              "      <button class=\"colab-df-convert\" onclick=\"convertToInteractive('df-710187dd-d02c-4085-a129-92a93ff7d125')\"\n",
              "              title=\"Convert this dataframe to an interactive table.\"\n",
              "              style=\"display:none;\">\n",
              "        \n",
              "  <svg xmlns=\"http://www.w3.org/2000/svg\" height=\"24px\"viewBox=\"0 0 24 24\"\n",
              "       width=\"24px\">\n",
              "    <path d=\"M0 0h24v24H0V0z\" fill=\"none\"/>\n",
              "    <path d=\"M18.56 5.44l.94 2.06.94-2.06 2.06-.94-2.06-.94-.94-2.06-.94 2.06-2.06.94zm-11 1L8.5 8.5l.94-2.06 2.06-.94-2.06-.94L8.5 2.5l-.94 2.06-2.06.94zm10 10l.94 2.06.94-2.06 2.06-.94-2.06-.94-.94-2.06-.94 2.06-2.06.94z\"/><path d=\"M17.41 7.96l-1.37-1.37c-.4-.4-.92-.59-1.43-.59-.52 0-1.04.2-1.43.59L10.3 9.45l-7.72 7.72c-.78.78-.78 2.05 0 2.83L4 21.41c.39.39.9.59 1.41.59.51 0 1.02-.2 1.41-.59l7.78-7.78 2.81-2.81c.8-.78.8-2.07 0-2.86zM5.41 20L4 18.59l7.72-7.72 1.47 1.35L5.41 20z\"/>\n",
              "  </svg>\n",
              "      </button>\n",
              "      \n",
              "  <style>\n",
              "    .colab-df-container {\n",
              "      display:flex;\n",
              "      flex-wrap:wrap;\n",
              "      gap: 12px;\n",
              "    }\n",
              "\n",
              "    .colab-df-convert {\n",
              "      background-color: #E8F0FE;\n",
              "      border: none;\n",
              "      border-radius: 50%;\n",
              "      cursor: pointer;\n",
              "      display: none;\n",
              "      fill: #1967D2;\n",
              "      height: 32px;\n",
              "      padding: 0 0 0 0;\n",
              "      width: 32px;\n",
              "    }\n",
              "\n",
              "    .colab-df-convert:hover {\n",
              "      background-color: #E2EBFA;\n",
              "      box-shadow: 0px 1px 2px rgba(60, 64, 67, 0.3), 0px 1px 3px 1px rgba(60, 64, 67, 0.15);\n",
              "      fill: #174EA6;\n",
              "    }\n",
              "\n",
              "    [theme=dark] .colab-df-convert {\n",
              "      background-color: #3B4455;\n",
              "      fill: #D2E3FC;\n",
              "    }\n",
              "\n",
              "    [theme=dark] .colab-df-convert:hover {\n",
              "      background-color: #434B5C;\n",
              "      box-shadow: 0px 1px 3px 1px rgba(0, 0, 0, 0.15);\n",
              "      filter: drop-shadow(0px 1px 2px rgba(0, 0, 0, 0.3));\n",
              "      fill: #FFFFFF;\n",
              "    }\n",
              "  </style>\n",
              "\n",
              "      <script>\n",
              "        const buttonEl =\n",
              "          document.querySelector('#df-710187dd-d02c-4085-a129-92a93ff7d125 button.colab-df-convert');\n",
              "        buttonEl.style.display =\n",
              "          google.colab.kernel.accessAllowed ? 'block' : 'none';\n",
              "\n",
              "        async function convertToInteractive(key) {\n",
              "          const element = document.querySelector('#df-710187dd-d02c-4085-a129-92a93ff7d125');\n",
              "          const dataTable =\n",
              "            await google.colab.kernel.invokeFunction('convertToInteractive',\n",
              "                                                     [key], {});\n",
              "          if (!dataTable) return;\n",
              "\n",
              "          const docLinkHtml = 'Like what you see? Visit the ' +\n",
              "            '<a target=\"_blank\" href=https://colab.research.google.com/notebooks/data_table.ipynb>data table notebook</a>'\n",
              "            + ' to learn more about interactive tables.';\n",
              "          element.innerHTML = '';\n",
              "          dataTable['output_type'] = 'display_data';\n",
              "          await google.colab.output.renderOutput(dataTable, element);\n",
              "          const docLink = document.createElement('div');\n",
              "          docLink.innerHTML = docLinkHtml;\n",
              "          element.appendChild(docLink);\n",
              "        }\n",
              "      </script>\n",
              "    </div>\n",
              "  </div>\n",
              "  "
            ],
            "text/plain": [
              "                                  title  ... duration_in_min\n",
              "date_added                               ...                \n",
              "2008-01-01         To and From New York  ...              81\n",
              "2009-05-05      Just Another Love Story  ...             104\n",
              "2009-11-18                     Splatter  ...              29\n",
              "2010-11-01  Mad Ron's Prevues from Hell  ...              84\n",
              "2011-05-17                Even the Rain  ...             103\n",
              "\n",
              "[5 rows x 7 columns]"
            ]
          },
          "metadata": {},
          "execution_count": 35
        }
      ]
    },
    {
      "cell_type": "code",
      "metadata": {
        "id": "yVfMI5T1xSHq",
        "execution": {
          "iopub.status.busy": "2021-11-10T16:06:45.929557Z",
          "iopub.execute_input": "2021-11-10T16:06:45.929918Z",
          "iopub.status.idle": "2021-11-10T16:06:45.942617Z",
          "shell.execute_reply.started": "2021-11-10T16:06:45.929859Z",
          "shell.execute_reply": "2021-11-10T16:06:45.941813Z"
        },
        "trusted": true,
        "colab": {
          "base_uri": "https://localhost:8080/"
        },
        "outputId": "34fef1df-0529-4400-fbb0-ee95ee7e15d3"
      },
      "source": [
        "Netflix_Movie_data.rating.value_counts()"
      ],
      "execution_count": 36,
      "outputs": [
        {
          "output_type": "execute_result",
          "data": {
            "text/plain": [
              "TV-MA       1842\n",
              "TV-14       1279\n",
              "R            788\n",
              "PG-13        477\n",
              "TV-PG        445\n",
              "PG           279\n",
              "TV-Y7        116\n",
              "TV-Y          97\n",
              "TV-G          93\n",
              "NR            58\n",
              "G             40\n",
              "UR             3\n",
              "TV-Y7-FV       3\n",
              "NC-17          2\n",
              "Name: rating, dtype: int64"
            ]
          },
          "metadata": {},
          "execution_count": 36
        }
      ]
    },
    {
      "cell_type": "code",
      "metadata": {
        "id": "Vet0sAwktxsa",
        "execution": {
          "iopub.status.busy": "2021-11-10T16:06:45.943997Z",
          "iopub.execute_input": "2021-11-10T16:06:45.944529Z",
          "iopub.status.idle": "2021-11-10T16:06:45.95653Z",
          "shell.execute_reply.started": "2021-11-10T16:06:45.944487Z",
          "shell.execute_reply": "2021-11-10T16:06:45.955872Z"
        },
        "trusted": true
      },
      "source": [
        "Little_Kids_CT = ['G','TV-Y','TV-G']\n",
        "Older_Kids_CT = ['PG','TV-Y7','TV-Y7-FV','TV-PG']\n",
        "Teens_CT = ['PG-13','TV-14','TV-G']\n",
        "Mature_CT = ['R','NC-17','TV-MA','NR','UR']\n",
        "Rating_List = {'Little_Kids':Little_Kids_CT,'Older_Kids':Older_Kids_CT,\n",
        "               'Teens':Teens_CT,'Mature':Mature_CT}"
      ],
      "execution_count": 37,
      "outputs": []
    },
    {
      "cell_type": "code",
      "metadata": {
        "id": "-AzBofaBv3X0",
        "execution": {
          "iopub.status.busy": "2021-11-10T16:06:45.957684Z",
          "iopub.execute_input": "2021-11-10T16:06:45.958683Z",
          "iopub.status.idle": "2021-11-10T16:06:45.972271Z",
          "shell.execute_reply.started": "2021-11-10T16:06:45.958636Z",
          "shell.execute_reply": "2021-11-10T16:06:45.971668Z"
        },
        "trusted": true,
        "colab": {
          "base_uri": "https://localhost:8080/"
        },
        "outputId": "41279c30-e387-4eb8-f6eb-a705029331ad"
      },
      "source": [
        "for rating_nm,rating_ls in Rating_List.items():\n",
        "  print(rating_nm,rating_ls)"
      ],
      "execution_count": 38,
      "outputs": [
        {
          "output_type": "stream",
          "name": "stdout",
          "text": [
            "Little_Kids ['G', 'TV-Y', 'TV-G']\n",
            "Older_Kids ['PG', 'TV-Y7', 'TV-Y7-FV', 'TV-PG']\n",
            "Teens ['PG-13', 'TV-14', 'TV-G']\n",
            "Mature ['R', 'NC-17', 'TV-MA', 'NR', 'UR']\n"
          ]
        }
      ]
    },
    {
      "cell_type": "code",
      "metadata": {
        "id": "ve2KwPmTuyh1",
        "execution": {
          "iopub.status.busy": "2021-11-10T16:06:45.973277Z",
          "iopub.execute_input": "2021-11-10T16:06:45.974167Z",
          "iopub.status.idle": "2021-11-10T16:06:46.016218Z",
          "shell.execute_reply.started": "2021-11-10T16:06:45.974117Z",
          "shell.execute_reply": "2021-11-10T16:06:46.015327Z"
        },
        "trusted": true
      },
      "source": [
        "for rating_nm,rating_ls in Rating_List.items():\n",
        "  Netflix_Movie_data.loc[Netflix_Movie_data.query('rating in @rating_ls').index,'rating'] = rating_nm"
      ],
      "execution_count": 39,
      "outputs": []
    },
    {
      "cell_type": "code",
      "metadata": {
        "id": "Jsm3gi160Pt7",
        "execution": {
          "iopub.status.busy": "2021-11-10T16:06:46.017343Z",
          "iopub.execute_input": "2021-11-10T16:06:46.017573Z",
          "iopub.status.idle": "2021-11-10T16:06:46.028809Z",
          "shell.execute_reply.started": "2021-11-10T16:06:46.017544Z",
          "shell.execute_reply": "2021-11-10T16:06:46.028116Z"
        },
        "trusted": true
      },
      "source": [
        "Netflix_Movie_data['release_year'] = Netflix_Movie_data.index.year\n",
        "Netflix_Movie_data['release_quarter'] = Netflix_Movie_data.index.quarter\n",
        "Netflix_Movie_data['release_month'] = Netflix_Movie_data.index.month_name()"
      ],
      "execution_count": 40,
      "outputs": []
    },
    {
      "cell_type": "code",
      "metadata": {
        "id": "J7vQSpDwwwad",
        "execution": {
          "iopub.status.busy": "2021-11-10T16:06:46.02997Z",
          "iopub.execute_input": "2021-11-10T16:06:46.030708Z",
          "iopub.status.idle": "2021-11-10T16:06:46.055807Z",
          "shell.execute_reply.started": "2021-11-10T16:06:46.030669Z",
          "shell.execute_reply": "2021-11-10T16:06:46.054754Z"
        },
        "trusted": true,
        "colab": {
          "base_uri": "https://localhost:8080/",
          "height": 368
        },
        "outputId": "64fc7a49-c268-4d42-cda8-52ed95d51d85"
      },
      "source": [
        "Netflix_Movie_data.head()"
      ],
      "execution_count": 41,
      "outputs": [
        {
          "output_type": "execute_result",
          "data": {
            "text/html": [
              "\n",
              "  <div id=\"df-196c22d1-46bd-448d-a097-8d5e5b2bc321\">\n",
              "    <div class=\"colab-df-container\">\n",
              "      <div>\n",
              "<style scoped>\n",
              "    .dataframe tbody tr th:only-of-type {\n",
              "        vertical-align: middle;\n",
              "    }\n",
              "\n",
              "    .dataframe tbody tr th {\n",
              "        vertical-align: top;\n",
              "    }\n",
              "\n",
              "    .dataframe thead th {\n",
              "        text-align: right;\n",
              "    }\n",
              "</style>\n",
              "<table border=\"1\" class=\"dataframe\">\n",
              "  <thead>\n",
              "    <tr style=\"text-align: right;\">\n",
              "      <th></th>\n",
              "      <th>title</th>\n",
              "      <th>director</th>\n",
              "      <th>cast</th>\n",
              "      <th>country</th>\n",
              "      <th>rating</th>\n",
              "      <th>listed_in</th>\n",
              "      <th>duration_in_min</th>\n",
              "      <th>release_year</th>\n",
              "      <th>release_quarter</th>\n",
              "      <th>release_month</th>\n",
              "    </tr>\n",
              "    <tr>\n",
              "      <th>date_added</th>\n",
              "      <th></th>\n",
              "      <th></th>\n",
              "      <th></th>\n",
              "      <th></th>\n",
              "      <th></th>\n",
              "      <th></th>\n",
              "      <th></th>\n",
              "      <th></th>\n",
              "      <th></th>\n",
              "      <th></th>\n",
              "    </tr>\n",
              "  </thead>\n",
              "  <tbody>\n",
              "    <tr>\n",
              "      <th>2008-01-01</th>\n",
              "      <td>To and From New York</td>\n",
              "      <td>[Sorin Dan Mihalcescu]</td>\n",
              "      <td>[Barbara King, Shaana Diya, John Krisiukenas, ...</td>\n",
              "      <td>[United States]</td>\n",
              "      <td>Mature</td>\n",
              "      <td>[Dramas, Independent Movies, Thrillers]</td>\n",
              "      <td>81</td>\n",
              "      <td>2008</td>\n",
              "      <td>1</td>\n",
              "      <td>January</td>\n",
              "    </tr>\n",
              "    <tr>\n",
              "      <th>2009-05-05</th>\n",
              "      <td>Just Another Love Story</td>\n",
              "      <td>[Ole Bornedal]</td>\n",
              "      <td>[Anders W. Berthelsen, Rebecka Hemse, Nikolaj ...</td>\n",
              "      <td>[Denmark]</td>\n",
              "      <td>Mature</td>\n",
              "      <td>[Dramas, International Movies]</td>\n",
              "      <td>104</td>\n",
              "      <td>2009</td>\n",
              "      <td>2</td>\n",
              "      <td>May</td>\n",
              "    </tr>\n",
              "    <tr>\n",
              "      <th>2009-11-18</th>\n",
              "      <td>Splatter</td>\n",
              "      <td>[Joe Dante]</td>\n",
              "      <td>[Corey Feldman, Tony Todd, Tara Leigh, Erin Wa...</td>\n",
              "      <td>[United States]</td>\n",
              "      <td>Mature</td>\n",
              "      <td>[Horror Movies]</td>\n",
              "      <td>29</td>\n",
              "      <td>2009</td>\n",
              "      <td>4</td>\n",
              "      <td>November</td>\n",
              "    </tr>\n",
              "    <tr>\n",
              "      <th>2010-11-01</th>\n",
              "      <td>Mad Ron's Prevues from Hell</td>\n",
              "      <td>[Jim Monaco]</td>\n",
              "      <td>[Nick Pawlow, Jordu Schell, Jay Kushwara, Mich...</td>\n",
              "      <td>[United States]</td>\n",
              "      <td>Mature</td>\n",
              "      <td>[Cult Movies, Horror Movies]</td>\n",
              "      <td>84</td>\n",
              "      <td>2010</td>\n",
              "      <td>4</td>\n",
              "      <td>November</td>\n",
              "    </tr>\n",
              "    <tr>\n",
              "      <th>2011-05-17</th>\n",
              "      <td>Even the Rain</td>\n",
              "      <td>[Icíar Bollaín]</td>\n",
              "      <td>[Luis Tosar, Gael García Bernal, Juan Carlos A...</td>\n",
              "      <td>[Spain, Mexico, France]</td>\n",
              "      <td>Mature</td>\n",
              "      <td>[Dramas, International Movies]</td>\n",
              "      <td>103</td>\n",
              "      <td>2011</td>\n",
              "      <td>2</td>\n",
              "      <td>May</td>\n",
              "    </tr>\n",
              "  </tbody>\n",
              "</table>\n",
              "</div>\n",
              "      <button class=\"colab-df-convert\" onclick=\"convertToInteractive('df-196c22d1-46bd-448d-a097-8d5e5b2bc321')\"\n",
              "              title=\"Convert this dataframe to an interactive table.\"\n",
              "              style=\"display:none;\">\n",
              "        \n",
              "  <svg xmlns=\"http://www.w3.org/2000/svg\" height=\"24px\"viewBox=\"0 0 24 24\"\n",
              "       width=\"24px\">\n",
              "    <path d=\"M0 0h24v24H0V0z\" fill=\"none\"/>\n",
              "    <path d=\"M18.56 5.44l.94 2.06.94-2.06 2.06-.94-2.06-.94-.94-2.06-.94 2.06-2.06.94zm-11 1L8.5 8.5l.94-2.06 2.06-.94-2.06-.94L8.5 2.5l-.94 2.06-2.06.94zm10 10l.94 2.06.94-2.06 2.06-.94-2.06-.94-.94-2.06-.94 2.06-2.06.94z\"/><path d=\"M17.41 7.96l-1.37-1.37c-.4-.4-.92-.59-1.43-.59-.52 0-1.04.2-1.43.59L10.3 9.45l-7.72 7.72c-.78.78-.78 2.05 0 2.83L4 21.41c.39.39.9.59 1.41.59.51 0 1.02-.2 1.41-.59l7.78-7.78 2.81-2.81c.8-.78.8-2.07 0-2.86zM5.41 20L4 18.59l7.72-7.72 1.47 1.35L5.41 20z\"/>\n",
              "  </svg>\n",
              "      </button>\n",
              "      \n",
              "  <style>\n",
              "    .colab-df-container {\n",
              "      display:flex;\n",
              "      flex-wrap:wrap;\n",
              "      gap: 12px;\n",
              "    }\n",
              "\n",
              "    .colab-df-convert {\n",
              "      background-color: #E8F0FE;\n",
              "      border: none;\n",
              "      border-radius: 50%;\n",
              "      cursor: pointer;\n",
              "      display: none;\n",
              "      fill: #1967D2;\n",
              "      height: 32px;\n",
              "      padding: 0 0 0 0;\n",
              "      width: 32px;\n",
              "    }\n",
              "\n",
              "    .colab-df-convert:hover {\n",
              "      background-color: #E2EBFA;\n",
              "      box-shadow: 0px 1px 2px rgba(60, 64, 67, 0.3), 0px 1px 3px 1px rgba(60, 64, 67, 0.15);\n",
              "      fill: #174EA6;\n",
              "    }\n",
              "\n",
              "    [theme=dark] .colab-df-convert {\n",
              "      background-color: #3B4455;\n",
              "      fill: #D2E3FC;\n",
              "    }\n",
              "\n",
              "    [theme=dark] .colab-df-convert:hover {\n",
              "      background-color: #434B5C;\n",
              "      box-shadow: 0px 1px 3px 1px rgba(0, 0, 0, 0.15);\n",
              "      filter: drop-shadow(0px 1px 2px rgba(0, 0, 0, 0.3));\n",
              "      fill: #FFFFFF;\n",
              "    }\n",
              "  </style>\n",
              "\n",
              "      <script>\n",
              "        const buttonEl =\n",
              "          document.querySelector('#df-196c22d1-46bd-448d-a097-8d5e5b2bc321 button.colab-df-convert');\n",
              "        buttonEl.style.display =\n",
              "          google.colab.kernel.accessAllowed ? 'block' : 'none';\n",
              "\n",
              "        async function convertToInteractive(key) {\n",
              "          const element = document.querySelector('#df-196c22d1-46bd-448d-a097-8d5e5b2bc321');\n",
              "          const dataTable =\n",
              "            await google.colab.kernel.invokeFunction('convertToInteractive',\n",
              "                                                     [key], {});\n",
              "          if (!dataTable) return;\n",
              "\n",
              "          const docLinkHtml = 'Like what you see? Visit the ' +\n",
              "            '<a target=\"_blank\" href=https://colab.research.google.com/notebooks/data_table.ipynb>data table notebook</a>'\n",
              "            + ' to learn more about interactive tables.';\n",
              "          element.innerHTML = '';\n",
              "          dataTable['output_type'] = 'display_data';\n",
              "          await google.colab.output.renderOutput(dataTable, element);\n",
              "          const docLink = document.createElement('div');\n",
              "          docLink.innerHTML = docLinkHtml;\n",
              "          element.appendChild(docLink);\n",
              "        }\n",
              "      </script>\n",
              "    </div>\n",
              "  </div>\n",
              "  "
            ],
            "text/plain": [
              "                                  title  ... release_month\n",
              "date_added                               ...              \n",
              "2008-01-01         To and From New York  ...       January\n",
              "2009-05-05      Just Another Love Story  ...           May\n",
              "2009-11-18                     Splatter  ...      November\n",
              "2010-11-01  Mad Ron's Prevues from Hell  ...      November\n",
              "2011-05-17                Even the Rain  ...           May\n",
              "\n",
              "[5 rows x 10 columns]"
            ]
          },
          "metadata": {},
          "execution_count": 41
        }
      ]
    },
    {
      "cell_type": "markdown",
      "metadata": {
        "id": "642a6vQFzyUN"
      },
      "source": [
        "# **Analysis**"
      ]
    },
    {
      "cell_type": "code",
      "metadata": {
        "id": "Nm1R2j2Pzf-D",
        "execution": {
          "iopub.status.busy": "2021-11-10T16:06:46.057127Z",
          "iopub.execute_input": "2021-11-10T16:06:46.057365Z",
          "iopub.status.idle": "2021-11-10T16:06:46.061222Z",
          "shell.execute_reply.started": "2021-11-10T16:06:46.057337Z",
          "shell.execute_reply": "2021-11-10T16:06:46.06056Z"
        },
        "_kg_hide-input": true,
        "trusted": true
      },
      "source": [
        "import warnings\n",
        "warnings.filterwarnings('ignore')"
      ],
      "execution_count": 42,
      "outputs": []
    },
    {
      "cell_type": "code",
      "metadata": {
        "id": "1Zg0n3Chxl6S",
        "execution": {
          "iopub.status.busy": "2021-11-10T16:06:46.062168Z",
          "iopub.execute_input": "2021-11-10T16:06:46.062939Z",
          "iopub.status.idle": "2021-11-10T16:06:46.223618Z",
          "shell.execute_reply.started": "2021-11-10T16:06:46.062865Z",
          "shell.execute_reply": "2021-11-10T16:06:46.222964Z"
        },
        "trusted": true,
        "outputId": "c639d91a-997d-4e3e-ed79-39d9f021aa1a",
        "colab": {
          "base_uri": "https://localhost:8080/",
          "height": 296
        }
      },
      "source": [
        "sns.countplot(Netflix_Movie_data['rating'],order=Netflix_Movie_data['rating'].value_counts().index,palette='rocket')\n",
        "plt.title('Count of movie ratings available on netflix')\n",
        "plt.show()"
      ],
      "execution_count": 43,
      "outputs": [
        {
          "output_type": "display_data",
          "data": {
            "image/png": "[encoded data removed]",
            "text/plain": [
              "<Figure size 432x288 with 1 Axes>"
            ]
          },
          "metadata": {
            "needs_background": "light"
          }
        }
      ]
    },
    {
      "cell_type": "code",
      "metadata": {
        "id": "ZHq9lVZ31AsX",
        "execution": {
          "iopub.status.busy": "2021-11-10T16:06:46.224849Z",
          "iopub.execute_input": "2021-11-10T16:06:46.225826Z",
          "iopub.status.idle": "2021-11-10T16:06:46.663136Z",
          "shell.execute_reply.started": "2021-11-10T16:06:46.225778Z",
          "shell.execute_reply": "2021-11-10T16:06:46.662469Z"
        },
        "trusted": true,
        "colab": {
          "base_uri": "https://localhost:8080/",
          "height": 404
        },
        "outputId": "3cb21316-047d-46f2-ee4c-d4b3a32c967a"
      },
      "source": [
        "plt.figure(figsize=(15,6))\n",
        "sns.barplot(data=Netflix_Movie_data.groupby(['release_year','rating'],as_index=False).title.count(),x='release_year',y='title',hue='rating')\n",
        "plt.xlabel('Year')\n",
        "plt.ylabel('Ratings')\n",
        "plt.title('Year wise Movies Ratings')\n",
        "plt.legend(loc='upper left')\n",
        "plt.show()"
      ],
      "execution_count": 44,
      "outputs": [
        {
          "output_type": "display_data",
          "data": {
            "image/png": "[encoded data removed]",
            "text/plain": [
              "<Figure size 1080x432 with 1 Axes>"
            ]
          },
          "metadata": {
            "needs_background": "light"
          }
        }
      ]
    },
    {
      "cell_type": "code",
      "metadata": {
        "id": "BzUH15lCTTdv",
        "execution": {
          "iopub.status.busy": "2021-11-10T16:06:46.664361Z",
          "iopub.execute_input": "2021-11-10T16:06:46.667518Z",
          "iopub.status.idle": "2021-11-10T16:06:46.675339Z",
          "shell.execute_reply.started": "2021-11-10T16:06:46.667477Z",
          "shell.execute_reply": "2021-11-10T16:06:46.674437Z"
        },
        "trusted": true,
        "colab": {
          "base_uri": "https://localhost:8080/"
        },
        "outputId": "2a6d53c6-df57-485c-bbd3-9b1b87714856"
      },
      "source": [
        "Netflix_Movie_data.release_year.value_counts().sort_index()"
      ],
      "execution_count": 45,
      "outputs": [
        {
          "output_type": "execute_result",
          "data": {
            "text/plain": [
              "2008       1\n",
              "2009       2\n",
              "2010       1\n",
              "2011      13\n",
              "2012       3\n",
              "2013       6\n",
              "2014      14\n",
              "2015      48\n",
              "2016     199\n",
              "2017     718\n",
              "2018    1107\n",
              "2019    1293\n",
              "2020    1202\n",
              "2021     915\n",
              "Name: release_year, dtype: int64"
            ]
          },
          "metadata": {},
          "execution_count": 45
        }
      ]
    },
    {
      "cell_type": "markdown",
      "metadata": {
        "id": "NkBriRKE8eFQ"
      },
      "source": [
        "We will be using data from 2017 to 2021 as majority of data resides in this date range."
      ]
    },
    {
      "cell_type": "code",
      "metadata": {
        "id": "mFEUI_ctTTgj",
        "execution": {
          "iopub.status.busy": "2021-11-10T16:06:46.67686Z",
          "iopub.execute_input": "2021-11-10T16:06:46.677247Z",
          "iopub.status.idle": "2021-11-10T16:06:46.688018Z",
          "shell.execute_reply.started": "2021-11-10T16:06:46.677184Z",
          "shell.execute_reply": "2021-11-10T16:06:46.687087Z"
        },
        "trusted": true
      },
      "source": [
        "import copy\n",
        "Netflix_Movie_17_21_data = copy.deepcopy(Netflix_Movie_data.loc['2017':'2021'])"
      ],
      "execution_count": 46,
      "outputs": []
    },
    {
      "cell_type": "code",
      "metadata": {
        "id": "wTNs6GO1-WDa",
        "execution": {
          "iopub.status.busy": "2021-11-10T16:06:46.689445Z",
          "iopub.execute_input": "2021-11-10T16:06:46.689742Z",
          "iopub.status.idle": "2021-11-10T16:06:46.701727Z",
          "shell.execute_reply.started": "2021-11-10T16:06:46.689702Z",
          "shell.execute_reply": "2021-11-10T16:06:46.70094Z"
        },
        "trusted": true
      },
      "source": [
        "Netflix_Movie_17_21_data.rating = pd.Categorical(Netflix_Movie_17_21_data.rating, \n",
        "                      categories=[\"Little_Kids\",\"Teens\",\"Older_Kids\",\"Mature\"],\n",
        "                      ordered=True)"
      ],
      "execution_count": 47,
      "outputs": []
    },
    {
      "cell_type": "code",
      "metadata": {
        "id": "9fpfwpToTTje",
        "execution": {
          "iopub.status.busy": "2021-11-10T16:06:46.704976Z",
          "iopub.execute_input": "2021-11-10T16:06:46.705782Z",
          "iopub.status.idle": "2021-11-10T16:06:46.712897Z",
          "shell.execute_reply.started": "2021-11-10T16:06:46.705732Z",
          "shell.execute_reply": "2021-11-10T16:06:46.712321Z"
        },
        "trusted": true,
        "colab": {
          "base_uri": "https://localhost:8080/"
        },
        "outputId": "a98be145-4ad4-47bf-8cb0-d5d3cf22a973"
      },
      "source": [
        "Netflix_Movie_17_21_data.shape"
      ],
      "execution_count": 48,
      "outputs": [
        {
          "output_type": "execute_result",
          "data": {
            "text/plain": [
              "(5235, 10)"
            ]
          },
          "metadata": {},
          "execution_count": 48
        }
      ]
    },
    {
      "cell_type": "code",
      "metadata": {
        "id": "ZXNMwdap8-TO",
        "execution": {
          "iopub.status.busy": "2021-11-10T16:06:46.713947Z",
          "iopub.execute_input": "2021-11-10T16:06:46.714581Z",
          "iopub.status.idle": "2021-11-10T16:06:46.871534Z",
          "shell.execute_reply.started": "2021-11-10T16:06:46.714547Z",
          "shell.execute_reply": "2021-11-10T16:06:46.870948Z"
        },
        "trusted": true,
        "colab": {
          "base_uri": "https://localhost:8080/",
          "height": 296
        },
        "outputId": "71308eb9-9e2d-425e-9a73-b26565b23bd0"
      },
      "source": [
        "sns.countplot(Netflix_Movie_17_21_data['rating'],order=Netflix_Movie_17_21_data['rating'].value_counts().index,palette='rocket')\n",
        "plt.title('Count of movie ratings available on netflix')\n",
        "plt.show()"
      ],
      "execution_count": 49,
      "outputs": [
        {
          "output_type": "display_data",
          "data": {
            "image/png": "[encoded data removed]",
            "text/plain": [
              "<Figure size 432x288 with 1 Axes>"
            ]
          },
          "metadata": {
            "needs_background": "light"
          }
        }
      ]
    },
    {
      "cell_type": "code",
      "metadata": {
        "id": "WpfxDQbiTTmK",
        "execution": {
          "iopub.status.busy": "2021-11-10T16:06:46.874691Z",
          "iopub.execute_input": "2021-11-10T16:06:46.874986Z",
          "iopub.status.idle": "2021-11-10T16:06:47.144362Z",
          "shell.execute_reply.started": "2021-11-10T16:06:46.874949Z",
          "shell.execute_reply": "2021-11-10T16:06:47.143611Z"
        },
        "trusted": true,
        "colab": {
          "base_uri": "https://localhost:8080/",
          "height": 404
        },
        "outputId": "b7c8f041-951f-4058-9332-7f964a9e9e0b"
      },
      "source": [
        "plt.figure(figsize=(15,6))\n",
        "sns.barplot(data=Netflix_Movie_17_21_data.groupby(['release_year','rating'],as_index=False).title.count(),x='release_year',y='title',hue='rating')\n",
        "plt.xlabel('Year')\n",
        "plt.ylabel('Ratings')\n",
        "plt.title('Year wise movies rating category count')\n",
        "plt.legend(loc='upper left')\n",
        "plt.show()"
      ],
      "execution_count": 50,
      "outputs": [
        {
          "output_type": "display_data",
          "data": {
            "image/png": "[encoded data removed]",
            "text/plain": [
              "<Figure size 1080x432 with 1 Axes>"
            ]
          },
          "metadata": {
            "needs_background": "light"
          }
        }
      ]
    },
    {
      "cell_type": "markdown",
      "metadata": {
        "id": "Z05sZR4QeZM6"
      },
      "source": [
        "We can clearly see a boom in Older Kids' moves in the year 2019 given their impulsive shopping habits and in general higher conversion rate from a marketing perspective."
      ]
    },
    {
      "cell_type": "code",
      "metadata": {
        "id": "wiA3DRPsTToy",
        "execution": {
          "iopub.status.busy": "2021-11-10T16:06:47.145486Z",
          "iopub.execute_input": "2021-11-10T16:06:47.145763Z",
          "iopub.status.idle": "2021-11-10T16:06:47.395664Z",
          "shell.execute_reply.started": "2021-11-10T16:06:47.145732Z",
          "shell.execute_reply": "2021-11-10T16:06:47.394783Z"
        },
        "trusted": true,
        "colab": {
          "base_uri": "https://localhost:8080/",
          "height": 404
        },
        "outputId": "8d4a4ded-8a33-49b0-b11c-a06e4297cc9e"
      },
      "source": [
        "plt.figure(figsize=(15,6))\n",
        "sns.barplot(data=Netflix_Movie_17_21_data.groupby(['release_quarter','rating'],as_index=False).title.count(),x='release_quarter',y='title',hue='rating')\n",
        "plt.xlabel('Quarter')\n",
        "plt.ylabel('Ratings')\n",
        "plt.title('Quarter wise movies rating category count')\n",
        "plt.legend(loc='upper left')\n",
        "plt.show()"
      ],
      "execution_count": 51,
      "outputs": [
        {
          "output_type": "display_data",
          "data": {
            "image/png": "[encoded data removed]",
            "text/plain": [
              "<Figure size 1080x432 with 1 Axes>"
            ]
          },
          "metadata": {
            "needs_background": "light"
          }
        }
      ]
    },
    {
      "cell_type": "markdown",
      "metadata": {
        "id": "C2efXrts-9Og"
      },
      "source": [
        "In above graph we can clearly see that during holidays season(4 quarter), most of films released were for Little Kids"
      ]
    },
    {
      "cell_type": "code",
      "metadata": {
        "id": "LssJU8VQ9vZ9",
        "execution": {
          "iopub.status.busy": "2021-11-10T16:06:47.397151Z",
          "iopub.execute_input": "2021-11-10T16:06:47.397393Z",
          "iopub.status.idle": "2021-11-10T16:06:47.808802Z",
          "shell.execute_reply.started": "2021-11-10T16:06:47.397363Z",
          "shell.execute_reply": "2021-11-10T16:06:47.80819Z"
        },
        "trusted": true,
        "colab": {
          "base_uri": "https://localhost:8080/",
          "height": 404
        },
        "outputId": "ce64f9a6-9741-4ec1-96a1-d7f3633f79d2"
      },
      "source": [
        "plt.figure(figsize=(15,6))\n",
        "sns.barplot(data=Netflix_Movie_17_21_data.groupby(['release_month','rating'],as_index=False).title.count(),x='release_month',y='title',hue='rating')\n",
        "plt.xlabel('Month')\n",
        "plt.ylabel('Ratings')\n",
        "plt.title('Month wise movies rating category count')\n",
        "plt.legend(loc='upper left')\n",
        "plt.show()"
      ],
      "execution_count": 52,
      "outputs": [
        {
          "output_type": "display_data",
          "data": {
            "image/png": "[encoded data removed]",
            "text/plain": [
              "<Figure size 1080x432 with 1 Axes>"
            ]
          },
          "metadata": {
            "needs_background": "light"
          }
        }
      ]
    },
    {
      "cell_type": "code",
      "metadata": {
        "id": "P3ix2xUATTrT",
        "execution": {
          "iopub.status.busy": "2021-11-10T16:06:47.809836Z",
          "iopub.execute_input": "2021-11-10T16:06:47.81016Z",
          "iopub.status.idle": "2021-11-10T16:06:48.242756Z",
          "shell.execute_reply.started": "2021-11-10T16:06:47.810132Z",
          "shell.execute_reply": "2021-11-10T16:06:48.242126Z"
        },
        "trusted": true,
        "colab": {
          "base_uri": "https://localhost:8080/",
          "height": 404
        },
        "outputId": "6c89213f-964c-4133-d34b-afb4d207054f"
      },
      "source": [
        "plt.figure(figsize=(15,6))\n",
        "sns.barplot(data=Netflix_Movie_17_21_data.groupby(['release_year','rating'],as_index=False).duration_in_min.sum(),x='release_year',y='duration_in_min',hue='rating')\n",
        "plt.xlabel('Year')\n",
        "plt.ylabel('Duration')\n",
        "plt.title('Year wise rating duration')\n",
        "plt.legend(loc='upper left')\n",
        "plt.show()"
      ],
      "execution_count": 53,
      "outputs": [
        {
          "output_type": "display_data",
          "data": {
            "image/png": "[encoded data removed]",
            "text/plain": [
              "<Figure size 1080x432 with 1 Axes>"
            ]
          },
          "metadata": {
            "needs_background": "light"
          }
        }
      ]
    },
    {
      "cell_type": "code",
      "metadata": {
        "id": "19Rtj0TSTK4F",
        "execution": {
          "iopub.status.busy": "2021-11-10T16:06:51.231898Z",
          "iopub.execute_input": "2021-11-10T16:06:51.232185Z",
          "iopub.status.idle": "2021-11-10T16:06:52.819134Z",
          "shell.execute_reply.started": "2021-11-10T16:06:51.232152Z",
          "shell.execute_reply": "2021-11-10T16:06:52.818246Z"
        },
        "trusted": true,
        "colab": {
          "base_uri": "https://localhost:8080/",
          "height": 377
        },
        "outputId": "920f548e-1284-49df-bc02-adf459ee2f13"
      },
      "source": [
        "Netflix_Movie_17_21_data.country.apply(pd.Series).stack().value_counts()[:10].plot.pie(figsize=(15,6),autopct='%1.1f%%',fontsize=12, shadow=True,labeldistance=1.2)\n",
        "plt.title('Top 10 country with most movies from year 2017-2021',fontsize=18)\n",
        "plt.show()"
      ],
      "execution_count": 54,
      "outputs": [
        {
          "output_type": "display_data",
          "data": {
            "image/png": "[encoded data removed]",
            "text/plain": [
              "<Figure size 1080x432 with 1 Axes>"
            ]
          },
          "metadata": {}
        }
      ]
    },
    {
      "cell_type": "markdown",
      "metadata": {
        "id": "0Juf2B-PfFUE"
      },
      "source": [
        "English being the common language taught and spoken by many countries lead to a ot of content being created by the English speaking countries like America and England. This also shows the influence that the western media has on the rest of the world.\n",
        "\n",
        "India on the other hand has the next largest amount of content created given it's own film industry known as 'Bollywood'. Bollywood actors collaborate worldwide and thus are followed by many around the world."
      ]
    },
    {
      "cell_type": "code",
      "metadata": {
        "id": "H0uCLzJ6keqG",
        "execution": {
          "iopub.status.busy": "2021-11-10T16:06:52.820387Z",
          "iopub.execute_input": "2021-11-10T16:06:52.820815Z",
          "iopub.status.idle": "2021-11-10T16:06:54.20421Z",
          "shell.execute_reply.started": "2021-11-10T16:06:52.820783Z",
          "shell.execute_reply": "2021-11-10T16:06:54.202208Z"
        },
        "trusted": true,
        "colab": {
          "base_uri": "https://localhost:8080/",
          "height": 389
        },
        "outputId": "908e436c-fb68-47a2-d9ac-4f1ab58cd5f8"
      },
      "source": [
        "Netflix_Movie_17_21_data.listed_in.apply(pd.Series).stack().value_counts()[:10].plot.pie(figsize=(15,6),autopct='%1.1f%%',fontsize=12, shadow=True,labeldistance=1.3)\n",
        "plt.title('Top 10 type of movies from year 2017-2021',fontsize=18)\n",
        "plt.show()"
      ],
      "execution_count": 55,
      "outputs": [
        {
          "output_type": "display_data",
          "data": {
            "image/png": "[encoded data removed]",
            "text/plain": [
              "<Figure size 1080x432 with 1 Axes>"
            ]
          },
          "metadata": {}
        }
      ]
    },
    {
      "cell_type": "markdown",
      "metadata": {
        "id": "0jXVyGWKk3jn"
      },
      "source": [
        "Dramas and comedies seem to be dominating the movie market right after the international movies. International movies include K-Dramas, Animes and various other domains which are highly loved by teens and young adults."
      ]
    },
    {
      "cell_type": "code",
      "metadata": {
        "id": "y5PLJVtTVZs2",
        "execution": {
          "iopub.status.busy": "2021-11-10T16:06:54.205702Z",
          "iopub.execute_input": "2021-11-10T16:06:54.206019Z",
          "iopub.status.idle": "2021-11-10T16:06:54.23042Z",
          "shell.execute_reply.started": "2021-11-10T16:06:54.205985Z",
          "shell.execute_reply": "2021-11-10T16:06:54.229408Z"
        },
        "trusted": true,
        "colab": {
          "base_uri": "https://localhost:8080/",
          "height": 386
        },
        "outputId": "146faefd-0192-4a0a-e1a4-52be3d59113d"
      },
      "source": [
        "Netflix_Movie_17_21_data.head()"
      ],
      "execution_count": 56,
      "outputs": [
        {
          "output_type": "execute_result",
          "data": {
            "text/html": [
              "\n",
              "  <div id=\"df-0f63af29-7964-4081-9643-c4c2290e098e\">\n",
              "    <div class=\"colab-df-container\">\n",
              "      <div>\n",
              "<style scoped>\n",
              "    .dataframe tbody tr th:only-of-type {\n",
              "        vertical-align: middle;\n",
              "    }\n",
              "\n",
              "    .dataframe tbody tr th {\n",
              "        vertical-align: top;\n",
              "    }\n",
              "\n",
              "    .dataframe thead th {\n",
              "        text-align: right;\n",
              "    }\n",
              "</style>\n",
              "<table border=\"1\" class=\"dataframe\">\n",
              "  <thead>\n",
              "    <tr style=\"text-align: right;\">\n",
              "      <th></th>\n",
              "      <th>title</th>\n",
              "      <th>director</th>\n",
              "      <th>cast</th>\n",
              "      <th>country</th>\n",
              "      <th>rating</th>\n",
              "      <th>listed_in</th>\n",
              "      <th>duration_in_min</th>\n",
              "      <th>release_year</th>\n",
              "      <th>release_quarter</th>\n",
              "      <th>release_month</th>\n",
              "    </tr>\n",
              "    <tr>\n",
              "      <th>date_added</th>\n",
              "      <th></th>\n",
              "      <th></th>\n",
              "      <th></th>\n",
              "      <th></th>\n",
              "      <th></th>\n",
              "      <th></th>\n",
              "      <th></th>\n",
              "      <th></th>\n",
              "      <th></th>\n",
              "      <th></th>\n",
              "    </tr>\n",
              "  </thead>\n",
              "  <tbody>\n",
              "    <tr>\n",
              "      <th>2017-01-01</th>\n",
              "      <td>The Land of the Enlightened</td>\n",
              "      <td>[Pieter-Jan De Pue]</td>\n",
              "      <td>[Sohrab Nazari]</td>\n",
              "      <td>[Belgium, Ireland, Netherlands, Germany, Afgha...</td>\n",
              "      <td>Older_Kids</td>\n",
              "      <td>[Documentaries, International Movies]</td>\n",
              "      <td>84</td>\n",
              "      <td>2017</td>\n",
              "      <td>1</td>\n",
              "      <td>January</td>\n",
              "    </tr>\n",
              "    <tr>\n",
              "      <th>2017-01-01</th>\n",
              "      <td>Autohead</td>\n",
              "      <td>[Rohit Mittal]</td>\n",
              "      <td>[Deepak Sampat, Ronjini Chakroborty, Vikrant S...</td>\n",
              "      <td>[India]</td>\n",
              "      <td>Older_Kids</td>\n",
              "      <td>[Dramas, International Movies, Thrillers]</td>\n",
              "      <td>97</td>\n",
              "      <td>2017</td>\n",
              "      <td>1</td>\n",
              "      <td>January</td>\n",
              "    </tr>\n",
              "    <tr>\n",
              "      <th>2017-01-01</th>\n",
              "      <td>Headwinds</td>\n",
              "      <td>[Jalil Lespert]</td>\n",
              "      <td>[Benoît Magimel, Isabelle Carré, Antoine Dulér...</td>\n",
              "      <td>[France, Belgium]</td>\n",
              "      <td>Older_Kids</td>\n",
              "      <td>[Dramas, Independent Movies, International Mov...</td>\n",
              "      <td>92</td>\n",
              "      <td>2017</td>\n",
              "      <td>1</td>\n",
              "      <td>January</td>\n",
              "    </tr>\n",
              "    <tr>\n",
              "      <th>2017-01-01</th>\n",
              "      <td>Bee Movie</td>\n",
              "      <td>[Steve Hickner, Simon J. Smith]</td>\n",
              "      <td>[Jerry Seinfeld, Renée Zellweger, Matthew Brod...</td>\n",
              "      <td>[United States]</td>\n",
              "      <td>Older_Kids</td>\n",
              "      <td>[Children &amp; Family Movies, Comedies]</td>\n",
              "      <td>92</td>\n",
              "      <td>2017</td>\n",
              "      <td>1</td>\n",
              "      <td>January</td>\n",
              "    </tr>\n",
              "    <tr>\n",
              "      <th>2017-01-01</th>\n",
              "      <td>Hurricane Bianca</td>\n",
              "      <td>[Matt Kugelman]</td>\n",
              "      <td>[Roy Haylock, Bianca Leigh, Denton Blane Evere...</td>\n",
              "      <td>[United States]</td>\n",
              "      <td>Older_Kids</td>\n",
              "      <td>[Comedies, Independent Movies, LGBTQ Movies]</td>\n",
              "      <td>85</td>\n",
              "      <td>2017</td>\n",
              "      <td>1</td>\n",
              "      <td>January</td>\n",
              "    </tr>\n",
              "  </tbody>\n",
              "</table>\n",
              "</div>\n",
              "      <button class=\"colab-df-convert\" onclick=\"convertToInteractive('df-0f63af29-7964-4081-9643-c4c2290e098e')\"\n",
              "              title=\"Convert this dataframe to an interactive table.\"\n",
              "              style=\"display:none;\">\n",
              "        \n",
              "  <svg xmlns=\"http://www.w3.org/2000/svg\" height=\"24px\"viewBox=\"0 0 24 24\"\n",
              "       width=\"24px\">\n",
              "    <path d=\"M0 0h24v24H0V0z\" fill=\"none\"/>\n",
              "    <path d=\"M18.56 5.44l.94 2.06.94-2.06 2.06-.94-2.06-.94-.94-2.06-.94 2.06-2.06.94zm-11 1L8.5 8.5l.94-2.06 2.06-.94-2.06-.94L8.5 2.5l-.94 2.06-2.06.94zm10 10l.94 2.06.94-2.06 2.06-.94-2.06-.94-.94-2.06-.94 2.06-2.06.94z\"/><path d=\"M17.41 7.96l-1.37-1.37c-.4-.4-.92-.59-1.43-.59-.52 0-1.04.2-1.43.59L10.3 9.45l-7.72 7.72c-.78.78-.78 2.05 0 2.83L4 21.41c.39.39.9.59 1.41.59.51 0 1.02-.2 1.41-.59l7.78-7.78 2.81-2.81c.8-.78.8-2.07 0-2.86zM5.41 20L4 18.59l7.72-7.72 1.47 1.35L5.41 20z\"/>\n",
              "  </svg>\n",
              "      </button>\n",
              "      \n",
              "  <style>\n",
              "    .colab-df-container {\n",
              "      display:flex;\n",
              "      flex-wrap:wrap;\n",
              "      gap: 12px;\n",
              "    }\n",
              "\n",
              "    .colab-df-convert {\n",
              "      background-color: #E8F0FE;\n",
              "      border: none;\n",
              "      border-radius: 50%;\n",
              "      cursor: pointer;\n",
              "      display: none;\n",
              "      fill: #1967D2;\n",
              "      height: 32px;\n",
              "      padding: 0 0 0 0;\n",
              "      width: 32px;\n",
              "    }\n",
              "\n",
              "    .colab-df-convert:hover {\n",
              "      background-color: #E2EBFA;\n",
              "      box-shadow: 0px 1px 2px rgba(60, 64, 67, 0.3), 0px 1px 3px 1px rgba(60, 64, 67, 0.15);\n",
              "      fill: #174EA6;\n",
              "    }\n",
              "\n",
              "    [theme=dark] .colab-df-convert {\n",
              "      background-color: #3B4455;\n",
              "      fill: #D2E3FC;\n",
              "    }\n",
              "\n",
              "    [theme=dark] .colab-df-convert:hover {\n",
              "      background-color: #434B5C;\n",
              "      box-shadow: 0px 1px 3px 1px rgba(0, 0, 0, 0.15);\n",
              "      filter: drop-shadow(0px 1px 2px rgba(0, 0, 0, 0.3));\n",
              "      fill: #FFFFFF;\n",
              "    }\n",
              "  </style>\n",
              "\n",
              "      <script>\n",
              "        const buttonEl =\n",
              "          document.querySelector('#df-0f63af29-7964-4081-9643-c4c2290e098e button.colab-df-convert');\n",
              "        buttonEl.style.display =\n",
              "          google.colab.kernel.accessAllowed ? 'block' : 'none';\n",
              "\n",
              "        async function convertToInteractive(key) {\n",
              "          const element = document.querySelector('#df-0f63af29-7964-4081-9643-c4c2290e098e');\n",
              "          const dataTable =\n",
              "            await google.colab.kernel.invokeFunction('convertToInteractive',\n",
              "                                                     [key], {});\n",
              "          if (!dataTable) return;\n",
              "\n",
              "          const docLinkHtml = 'Like what you see? Visit the ' +\n",
              "            '<a target=\"_blank\" href=https://colab.research.google.com/notebooks/data_table.ipynb>data table notebook</a>'\n",
              "            + ' to learn more about interactive tables.';\n",
              "          element.innerHTML = '';\n",
              "          dataTable['output_type'] = 'display_data';\n",
              "          await google.colab.output.renderOutput(dataTable, element);\n",
              "          const docLink = document.createElement('div');\n",
              "          docLink.innerHTML = docLinkHtml;\n",
              "          element.appendChild(docLink);\n",
              "        }\n",
              "      </script>\n",
              "    </div>\n",
              "  </div>\n",
              "  "
            ],
            "text/plain": [
              "                                  title  ... release_month\n",
              "date_added                               ...              \n",
              "2017-01-01  The Land of the Enlightened  ...       January\n",
              "2017-01-01                     Autohead  ...       January\n",
              "2017-01-01                    Headwinds  ...       January\n",
              "2017-01-01                    Bee Movie  ...       January\n",
              "2017-01-01             Hurricane Bianca  ...       January\n",
              "\n",
              "[5 rows x 10 columns]"
            ]
          },
          "metadata": {},
          "execution_count": 56
        }
      ]
    },
    {
      "cell_type": "code",
      "metadata": {
        "id": "Oe1VMBWWZqTo",
        "execution": {
          "iopub.status.busy": "2021-11-10T16:06:54.231859Z",
          "iopub.execute_input": "2021-11-10T16:06:54.232192Z",
          "iopub.status.idle": "2021-11-10T16:06:59.225436Z",
          "shell.execute_reply.started": "2021-11-10T16:06:54.232149Z",
          "shell.execute_reply": "2021-11-10T16:06:59.224374Z"
        },
        "trusted": true
      },
      "source": [
        "top_10_director = list(Netflix_Movie_17_21_data.director.apply(pd.Series).stack().value_counts()[:10].index)\n",
        "top_10_cast = list(Netflix_Movie_17_21_data.cast.apply(pd.Series).stack().value_counts()[:10].index)\n",
        "top_10_country = list(Netflix_Movie_17_21_data.country.apply(pd.Series).stack().value_counts()[:10].index)\n",
        "top_10_listed_in = list(Netflix_Movie_17_21_data.listed_in.apply(pd.Series).stack().value_counts()[:10].index)"
      ],
      "execution_count": 57,
      "outputs": []
    },
    {
      "cell_type": "code",
      "metadata": {
        "id": "p_0-cSBGQUBX",
        "execution": {
          "iopub.status.busy": "2021-11-10T16:06:59.226826Z",
          "iopub.execute_input": "2021-11-10T16:06:59.227173Z",
          "iopub.status.idle": "2021-11-10T16:07:11.774061Z",
          "shell.execute_reply.started": "2021-11-10T16:06:59.227129Z",
          "shell.execute_reply": "2021-11-10T16:07:11.772684Z"
        },
        "trusted": true
      },
      "source": [
        "top_10_cast_rating_dict = {}\n",
        "\n",
        "for cast_nm in top_10_cast:\n",
        "  top_10_cast_rating_dict[cast_nm] = Netflix_Movie_17_21_data[Netflix_Movie_17_21_data.cast.apply(pd.Series).values == cast_nm].groupby(['rating']).title.count()"
      ],
      "execution_count": 58,
      "outputs": []
    },
    {
      "cell_type": "code",
      "metadata": {
        "id": "J7svFFBol3IH",
        "execution": {
          "iopub.status.busy": "2021-11-10T16:07:11.775481Z",
          "iopub.execute_input": "2021-11-10T16:07:11.775881Z",
          "iopub.status.idle": "2021-11-10T16:07:11.792157Z",
          "shell.execute_reply.started": "2021-11-10T16:07:11.775834Z",
          "shell.execute_reply": "2021-11-10T16:07:11.791209Z"
        },
        "trusted": true,
        "colab": {
          "base_uri": "https://localhost:8080/",
          "height": 363
        },
        "outputId": "ae3505e5-3934-49a1-f5dd-cfb835b4af20"
      },
      "source": [
        "pd.DataFrame(top_10_cast_rating_dict).transpose()"
      ],
      "execution_count": 59,
      "outputs": [
        {
          "output_type": "execute_result",
          "data": {
            "text/html": [
              "\n",
              "  <div id=\"df-f5c971be-2051-464c-a63a-33c800859103\">\n",
              "    <div class=\"colab-df-container\">\n",
              "      <div>\n",
              "<style scoped>\n",
              "    .dataframe tbody tr th:only-of-type {\n",
              "        vertical-align: middle;\n",
              "    }\n",
              "\n",
              "    .dataframe tbody tr th {\n",
              "        vertical-align: top;\n",
              "    }\n",
              "\n",
              "    .dataframe thead th {\n",
              "        text-align: right;\n",
              "    }\n",
              "</style>\n",
              "<table border=\"1\" class=\"dataframe\">\n",
              "  <thead>\n",
              "    <tr style=\"text-align: right;\">\n",
              "      <th>rating</th>\n",
              "      <th>Little_Kids</th>\n",
              "      <th>Teens</th>\n",
              "      <th>Older_Kids</th>\n",
              "      <th>Mature</th>\n",
              "    </tr>\n",
              "  </thead>\n",
              "  <tbody>\n",
              "    <tr>\n",
              "      <th>Anupam Kher</th>\n",
              "      <td>17</td>\n",
              "      <td>11</td>\n",
              "      <td>14</td>\n",
              "      <td>0</td>\n",
              "    </tr>\n",
              "    <tr>\n",
              "      <th>Shah Rukh Khan</th>\n",
              "      <td>18</td>\n",
              "      <td>6</td>\n",
              "      <td>10</td>\n",
              "      <td>1</td>\n",
              "    </tr>\n",
              "    <tr>\n",
              "      <th>Naseeruddin Shah</th>\n",
              "      <td>7</td>\n",
              "      <td>5</td>\n",
              "      <td>20</td>\n",
              "      <td>0</td>\n",
              "    </tr>\n",
              "    <tr>\n",
              "      <th>Om Puri</th>\n",
              "      <td>13</td>\n",
              "      <td>3</td>\n",
              "      <td>12</td>\n",
              "      <td>2</td>\n",
              "    </tr>\n",
              "    <tr>\n",
              "      <th>Akshay Kumar</th>\n",
              "      <td>5</td>\n",
              "      <td>5</td>\n",
              "      <td>19</td>\n",
              "      <td>1</td>\n",
              "    </tr>\n",
              "    <tr>\n",
              "      <th>Paresh Rawal</th>\n",
              "      <td>11</td>\n",
              "      <td>3</td>\n",
              "      <td>13</td>\n",
              "      <td>1</td>\n",
              "    </tr>\n",
              "    <tr>\n",
              "      <th>Julie Tejwani</th>\n",
              "      <td>24</td>\n",
              "      <td>0</td>\n",
              "      <td>4</td>\n",
              "      <td>0</td>\n",
              "    </tr>\n",
              "    <tr>\n",
              "      <th>Amitabh Bachchan</th>\n",
              "      <td>12</td>\n",
              "      <td>4</td>\n",
              "      <td>12</td>\n",
              "      <td>0</td>\n",
              "    </tr>\n",
              "    <tr>\n",
              "      <th>Boman Irani</th>\n",
              "      <td>13</td>\n",
              "      <td>4</td>\n",
              "      <td>9</td>\n",
              "      <td>1</td>\n",
              "    </tr>\n",
              "    <tr>\n",
              "      <th>Rupa Bhimani</th>\n",
              "      <td>23</td>\n",
              "      <td>0</td>\n",
              "      <td>4</td>\n",
              "      <td>0</td>\n",
              "    </tr>\n",
              "  </tbody>\n",
              "</table>\n",
              "</div>\n",
              "      <button class=\"colab-df-convert\" onclick=\"convertToInteractive('df-f5c971be-2051-464c-a63a-33c800859103')\"\n",
              "              title=\"Convert this dataframe to an interactive table.\"\n",
              "              style=\"display:none;\">\n",
              "        \n",
              "  <svg xmlns=\"http://www.w3.org/2000/svg\" height=\"24px\"viewBox=\"0 0 24 24\"\n",
              "       width=\"24px\">\n",
              "    <path d=\"M0 0h24v24H0V0z\" fill=\"none\"/>\n",
              "    <path d=\"M18.56 5.44l.94 2.06.94-2.06 2.06-.94-2.06-.94-.94-2.06-.94 2.06-2.06.94zm-11 1L8.5 8.5l.94-2.06 2.06-.94-2.06-.94L8.5 2.5l-.94 2.06-2.06.94zm10 10l.94 2.06.94-2.06 2.06-.94-2.06-.94-.94-2.06-.94 2.06-2.06.94z\"/><path d=\"M17.41 7.96l-1.37-1.37c-.4-.4-.92-.59-1.43-.59-.52 0-1.04.2-1.43.59L10.3 9.45l-7.72 7.72c-.78.78-.78 2.05 0 2.83L4 21.41c.39.39.9.59 1.41.59.51 0 1.02-.2 1.41-.59l7.78-7.78 2.81-2.81c.8-.78.8-2.07 0-2.86zM5.41 20L4 18.59l7.72-7.72 1.47 1.35L5.41 20z\"/>\n",
              "  </svg>\n",
              "      </button>\n",
              "      \n",
              "  <style>\n",
              "    .colab-df-container {\n",
              "      display:flex;\n",
              "      flex-wrap:wrap;\n",
              "      gap: 12px;\n",
              "    }\n",
              "\n",
              "    .colab-df-convert {\n",
              "      background-color: #E8F0FE;\n",
              "      border: none;\n",
              "      border-radius: 50%;\n",
              "      cursor: pointer;\n",
              "      display: none;\n",
              "      fill: #1967D2;\n",
              "      height: 32px;\n",
              "      padding: 0 0 0 0;\n",
              "      width: 32px;\n",
              "    }\n",
              "\n",
              "    .colab-df-convert:hover {\n",
              "      background-color: #E2EBFA;\n",
              "      box-shadow: 0px 1px 2px rgba(60, 64, 67, 0.3), 0px 1px 3px 1px rgba(60, 64, 67, 0.15);\n",
              "      fill: #174EA6;\n",
              "    }\n",
              "\n",
              "    [theme=dark] .colab-df-convert {\n",
              "      background-color: #3B4455;\n",
              "      fill: #D2E3FC;\n",
              "    }\n",
              "\n",
              "    [theme=dark] .colab-df-convert:hover {\n",
              "      background-color: #434B5C;\n",
              "      box-shadow: 0px 1px 3px 1px rgba(0, 0, 0, 0.15);\n",
              "      filter: drop-shadow(0px 1px 2px rgba(0, 0, 0, 0.3));\n",
              "      fill: #FFFFFF;\n",
              "    }\n",
              "  </style>\n",
              "\n",
              "      <script>\n",
              "        const buttonEl =\n",
              "          document.querySelector('#df-f5c971be-2051-464c-a63a-33c800859103 button.colab-df-convert');\n",
              "        buttonEl.style.display =\n",
              "          google.colab.kernel.accessAllowed ? 'block' : 'none';\n",
              "\n",
              "        async function convertToInteractive(key) {\n",
              "          const element = document.querySelector('#df-f5c971be-2051-464c-a63a-33c800859103');\n",
              "          const dataTable =\n",
              "            await google.colab.kernel.invokeFunction('convertToInteractive',\n",
              "                                                     [key], {});\n",
              "          if (!dataTable) return;\n",
              "\n",
              "          const docLinkHtml = 'Like what you see? Visit the ' +\n",
              "            '<a target=\"_blank\" href=https://colab.research.google.com/notebooks/data_table.ipynb>data table notebook</a>'\n",
              "            + ' to learn more about interactive tables.';\n",
              "          element.innerHTML = '';\n",
              "          dataTable['output_type'] = 'display_data';\n",
              "          await google.colab.output.renderOutput(dataTable, element);\n",
              "          const docLink = document.createElement('div');\n",
              "          docLink.innerHTML = docLinkHtml;\n",
              "          element.appendChild(docLink);\n",
              "        }\n",
              "      </script>\n",
              "    </div>\n",
              "  </div>\n",
              "  "
            ],
            "text/plain": [
              "rating            Little_Kids  Teens  Older_Kids  Mature\n",
              "Anupam Kher                17     11          14       0\n",
              "Shah Rukh Khan             18      6          10       1\n",
              "Naseeruddin Shah            7      5          20       0\n",
              "Om Puri                    13      3          12       2\n",
              "Akshay Kumar                5      5          19       1\n",
              "Paresh Rawal               11      3          13       1\n",
              "Julie Tejwani              24      0           4       0\n",
              "Amitabh Bachchan           12      4          12       0\n",
              "Boman Irani                13      4           9       1\n",
              "Rupa Bhimani               23      0           4       0"
            ]
          },
          "metadata": {},
          "execution_count": 59
        }
      ]
    },
    {
      "cell_type": "code",
      "metadata": {
        "id": "r2PEmWK4QUU0",
        "execution": {
          "iopub.status.busy": "2021-11-10T16:07:49.387821Z",
          "iopub.execute_input": "2021-11-10T16:07:49.388161Z",
          "iopub.status.idle": "2021-11-10T16:08:01.763567Z",
          "shell.execute_reply.started": "2021-11-10T16:07:49.388132Z",
          "shell.execute_reply": "2021-11-10T16:08:01.762979Z"
        },
        "trusted": true,
        "colab": {
          "base_uri": "https://localhost:8080/",
          "height": 453
        },
        "outputId": "d63fcd1c-313d-4b22-ae7c-a1fd6765bf6c"
      },
      "source": [
        "top_10_country_rating_dict = {}\n",
        "\n",
        "for _ in top_10_country:\n",
        "  top_10_country_rating_dict[_] = Netflix_Movie_17_21_data[Netflix_Movie_17_21_data.country.apply(pd.Series).values == _].groupby(['rating']).title.count()\n",
        "\n",
        "pd.DataFrame(top_10_country_rating_dict).transpose().plot.bar(figsize=(15,6))\n",
        "plt.title('Count of ratings made each country')\n",
        "plt.xlabel('Country')\n",
        "plt.ylabel('Ratings')\n",
        "plt.xticks(rotation=40)\n",
        "plt.show()"
      ],
      "execution_count": 60,
      "outputs": [
        {
          "output_type": "display_data",
          "data": {
            "image/png": "[encoded data removed]",
            "text/plain": [
              "<Figure size 1080x432 with 1 Axes>"
            ]
          },
          "metadata": {
            "needs_background": "light"
          }
        }
      ]
    },
    {
      "cell_type": "code",
      "metadata": {
        "id": "cEqFTCrvQUW-",
        "execution": {
          "iopub.status.busy": "2021-11-10T16:08:01.764652Z",
          "iopub.execute_input": "2021-11-10T16:08:01.765004Z",
          "iopub.status.idle": "2021-11-10T16:08:14.077102Z",
          "shell.execute_reply.started": "2021-11-10T16:08:01.764974Z",
          "shell.execute_reply": "2021-11-10T16:08:14.076351Z"
        },
        "trusted": true,
        "colab": {
          "base_uri": "https://localhost:8080/",
          "height": 453
        },
        "outputId": "18e07c6e-bec3-4dcd-c214-cb91dedd9a92"
      },
      "source": [
        "top_10_country_duration_dict = {}\n",
        "\n",
        "for _ in top_10_country:\n",
        "  top_10_country_duration_dict[_] = Netflix_Movie_17_21_data[Netflix_Movie_17_21_data.country.apply(pd.Series).values == _].duration_in_min.mean()\n",
        "\n",
        "pd.Series(top_10_country_duration_dict).plot.bar(figsize=(15,6),edgecolor='black',color='green')\n",
        "plt.title('Average duration of movies in top 10 countries')\n",
        "plt.xlabel('Countries')\n",
        "plt.ylabel('Average duration')\n",
        "plt.xticks(rotation=40)\n",
        "plt.show()"
      ],
      "execution_count": 61,
      "outputs": [
        {
          "output_type": "display_data",
          "data": {
            "image/png": "[encoded data removed]",
            "text/plain": [
              "<Figure size 1080x432 with 1 Axes>"
            ]
          },
          "metadata": {
            "needs_background": "light"
          }
        }
      ]
    },
    {
      "cell_type": "code",
      "metadata": {
        "id": "r26C5Rdjr9E3",
        "execution": {
          "iopub.status.busy": "2021-11-10T16:08:14.07822Z",
          "iopub.execute_input": "2021-11-10T16:08:14.078542Z",
          "iopub.status.idle": "2021-11-10T16:08:26.282846Z",
          "shell.execute_reply.started": "2021-11-10T16:08:14.078514Z",
          "shell.execute_reply": "2021-11-10T16:08:26.281884Z"
        },
        "trusted": true,
        "colab": {
          "base_uri": "https://localhost:8080/",
          "height": 483
        },
        "outputId": "2b475929-c438-4907-cb22-4d2b48b406fe"
      },
      "source": [
        "top_10_listed_in_rating_dict = {}\n",
        "\n",
        "for _ in top_10_listed_in:\n",
        "  top_10_listed_in_rating_dict[_] = Netflix_Movie_17_21_data[Netflix_Movie_17_21_data.listed_in.apply(pd.Series).values == _].groupby(['rating']).title.count()\n",
        "\n",
        "pd.DataFrame(top_10_listed_in_rating_dict).transpose().plot.bar(figsize=(15,6))\n",
        "plt.title('Count of ratings made by each movie type')\n",
        "plt.xlabel('Type of movie')\n",
        "plt.ylabel('Ratings')\n",
        "plt.xticks(rotation=40)\n",
        "plt.show()"
      ],
      "execution_count": 62,
      "outputs": [
        {
          "output_type": "display_data",
          "data": {
            "image/png": "[encoded data removed]",
            "text/plain": [
              "<Figure size 1080x432 with 1 Axes>"
            ]
          },
          "metadata": {
            "needs_background": "light"
          }
        }
      ]
    },
    {
      "cell_type": "markdown",
      "metadata": {
        "id": "ArN-RbW3i6HY"
      },
      "source": [
        "International movies made for older kids have proven to perform well in most of the countries. Content is consumed almost constantly by the infants and little kids as parents tend to leave their kids in front of the screens. Movies with vibrant colours and songs tend to do better with the kids and it's a domain loved by the little kids."
      ]
    },
    {
      "cell_type": "markdown",
      "metadata": {
        "id": "VSwHau2fsZA7"
      },
      "source": [
        "In 'Children & Family Movies' no mature ratings movies were made"
      ]
    },
    {
      "cell_type": "code",
      "metadata": {
        "id": "_CAMtP3JskBc",
        "execution": {
          "iopub.status.busy": "2021-11-10T16:08:26.284351Z",
          "iopub.execute_input": "2021-11-10T16:08:26.284673Z",
          "iopub.status.idle": "2021-11-10T16:08:26.305926Z",
          "shell.execute_reply.started": "2021-11-10T16:08:26.284633Z",
          "shell.execute_reply": "2021-11-10T16:08:26.302581Z"
        },
        "trusted": true,
        "colab": {
          "base_uri": "https://localhost:8080/",
          "height": 363
        },
        "outputId": "e7c008ee-53dd-46e9-9275-76f2ff0bd0e6"
      },
      "source": [
        "pd.DataFrame(top_10_listed_in_rating_dict).transpose()"
      ],
      "execution_count": 63,
      "outputs": [
        {
          "output_type": "execute_result",
          "data": {
            "text/html": [
              "\n",
              "  <div id=\"df-9c7250f3-03ee-4709-ace2-dc17c3049ae1\">\n",
              "    <div class=\"colab-df-container\">\n",
              "      <div>\n",
              "<style scoped>\n",
              "    .dataframe tbody tr th:only-of-type {\n",
              "        vertical-align: middle;\n",
              "    }\n",
              "\n",
              "    .dataframe tbody tr th {\n",
              "        vertical-align: top;\n",
              "    }\n",
              "\n",
              "    .dataframe thead th {\n",
              "        text-align: right;\n",
              "    }\n",
              "</style>\n",
              "<table border=\"1\" class=\"dataframe\">\n",
              "  <thead>\n",
              "    <tr style=\"text-align: right;\">\n",
              "      <th>rating</th>\n",
              "      <th>Little_Kids</th>\n",
              "      <th>Teens</th>\n",
              "      <th>Older_Kids</th>\n",
              "      <th>Mature</th>\n",
              "    </tr>\n",
              "  </thead>\n",
              "  <tbody>\n",
              "    <tr>\n",
              "      <th>International Movies</th>\n",
              "      <td>703</td>\n",
              "      <td>609</td>\n",
              "      <td>895</td>\n",
              "      <td>262</td>\n",
              "    </tr>\n",
              "    <tr>\n",
              "      <th>Dramas</th>\n",
              "      <td>679</td>\n",
              "      <td>534</td>\n",
              "      <td>794</td>\n",
              "      <td>299</td>\n",
              "    </tr>\n",
              "    <tr>\n",
              "      <th>Comedies</th>\n",
              "      <td>546</td>\n",
              "      <td>329</td>\n",
              "      <td>556</td>\n",
              "      <td>140</td>\n",
              "    </tr>\n",
              "    <tr>\n",
              "      <th>Action &amp; Adventure</th>\n",
              "      <td>281</td>\n",
              "      <td>178</td>\n",
              "      <td>267</td>\n",
              "      <td>101</td>\n",
              "    </tr>\n",
              "    <tr>\n",
              "      <th>Independent Movies</th>\n",
              "      <td>165</td>\n",
              "      <td>180</td>\n",
              "      <td>209</td>\n",
              "      <td>158</td>\n",
              "    </tr>\n",
              "    <tr>\n",
              "      <th>Romantic Movies</th>\n",
              "      <td>200</td>\n",
              "      <td>133</td>\n",
              "      <td>221</td>\n",
              "      <td>42</td>\n",
              "    </tr>\n",
              "    <tr>\n",
              "      <th>Thrillers</th>\n",
              "      <td>149</td>\n",
              "      <td>135</td>\n",
              "      <td>168</td>\n",
              "      <td>105</td>\n",
              "    </tr>\n",
              "    <tr>\n",
              "      <th>Children &amp; Family Movies</th>\n",
              "      <td>293</td>\n",
              "      <td>10</td>\n",
              "      <td>245</td>\n",
              "      <td>0</td>\n",
              "    </tr>\n",
              "    <tr>\n",
              "      <th>Documentaries</th>\n",
              "      <td>121</td>\n",
              "      <td>75</td>\n",
              "      <td>130</td>\n",
              "      <td>48</td>\n",
              "    </tr>\n",
              "    <tr>\n",
              "      <th>Horror Movies</th>\n",
              "      <td>92</td>\n",
              "      <td>88</td>\n",
              "      <td>91</td>\n",
              "      <td>69</td>\n",
              "    </tr>\n",
              "  </tbody>\n",
              "</table>\n",
              "</div>\n",
              "      <button class=\"colab-df-convert\" onclick=\"convertToInteractive('df-9c7250f3-03ee-4709-ace2-dc17c3049ae1')\"\n",
              "              title=\"Convert this dataframe to an interactive table.\"\n",
              "              style=\"display:none;\">\n",
              "        \n",
              "  <svg xmlns=\"http://www.w3.org/2000/svg\" height=\"24px\"viewBox=\"0 0 24 24\"\n",
              "       width=\"24px\">\n",
              "    <path d=\"M0 0h24v24H0V0z\" fill=\"none\"/>\n",
              "    <path d=\"M18.56 5.44l.94 2.06.94-2.06 2.06-.94-2.06-.94-.94-2.06-.94 2.06-2.06.94zm-11 1L8.5 8.5l.94-2.06 2.06-.94-2.06-.94L8.5 2.5l-.94 2.06-2.06.94zm10 10l.94 2.06.94-2.06 2.06-.94-2.06-.94-.94-2.06-.94 2.06-2.06.94z\"/><path d=\"M17.41 7.96l-1.37-1.37c-.4-.4-.92-.59-1.43-.59-.52 0-1.04.2-1.43.59L10.3 9.45l-7.72 7.72c-.78.78-.78 2.05 0 2.83L4 21.41c.39.39.9.59 1.41.59.51 0 1.02-.2 1.41-.59l7.78-7.78 2.81-2.81c.8-.78.8-2.07 0-2.86zM5.41 20L4 18.59l7.72-7.72 1.47 1.35L5.41 20z\"/>\n",
              "  </svg>\n",
              "      </button>\n",
              "      \n",
              "  <style>\n",
              "    .colab-df-container {\n",
              "      display:flex;\n",
              "      flex-wrap:wrap;\n",
              "      gap: 12px;\n",
              "    }\n",
              "\n",
              "    .colab-df-convert {\n",
              "      background-color: #E8F0FE;\n",
              "      border: none;\n",
              "      border-radius: 50%;\n",
              "      cursor: pointer;\n",
              "      display: none;\n",
              "      fill: #1967D2;\n",
              "      height: 32px;\n",
              "      padding: 0 0 0 0;\n",
              "      width: 32px;\n",
              "    }\n",
              "\n",
              "    .colab-df-convert:hover {\n",
              "      background-color: #E2EBFA;\n",
              "      box-shadow: 0px 1px 2px rgba(60, 64, 67, 0.3), 0px 1px 3px 1px rgba(60, 64, 67, 0.15);\n",
              "      fill: #174EA6;\n",
              "    }\n",
              "\n",
              "    [theme=dark] .colab-df-convert {\n",
              "      background-color: #3B4455;\n",
              "      fill: #D2E3FC;\n",
              "    }\n",
              "\n",
              "    [theme=dark] .colab-df-convert:hover {\n",
              "      background-color: #434B5C;\n",
              "      box-shadow: 0px 1px 3px 1px rgba(0, 0, 0, 0.15);\n",
              "      filter: drop-shadow(0px 1px 2px rgba(0, 0, 0, 0.3));\n",
              "      fill: #FFFFFF;\n",
              "    }\n",
              "  </style>\n",
              "\n",
              "      <script>\n",
              "        const buttonEl =\n",
              "          document.querySelector('#df-9c7250f3-03ee-4709-ace2-dc17c3049ae1 button.colab-df-convert');\n",
              "        buttonEl.style.display =\n",
              "          google.colab.kernel.accessAllowed ? 'block' : 'none';\n",
              "\n",
              "        async function convertToInteractive(key) {\n",
              "          const element = document.querySelector('#df-9c7250f3-03ee-4709-ace2-dc17c3049ae1');\n",
              "          const dataTable =\n",
              "            await google.colab.kernel.invokeFunction('convertToInteractive',\n",
              "                                                     [key], {});\n",
              "          if (!dataTable) return;\n",
              "\n",
              "          const docLinkHtml = 'Like what you see? Visit the ' +\n",
              "            '<a target=\"_blank\" href=https://colab.research.google.com/notebooks/data_table.ipynb>data table notebook</a>'\n",
              "            + ' to learn more about interactive tables.';\n",
              "          element.innerHTML = '';\n",
              "          dataTable['output_type'] = 'display_data';\n",
              "          await google.colab.output.renderOutput(dataTable, element);\n",
              "          const docLink = document.createElement('div');\n",
              "          docLink.innerHTML = docLinkHtml;\n",
              "          element.appendChild(docLink);\n",
              "        }\n",
              "      </script>\n",
              "    </div>\n",
              "  </div>\n",
              "  "
            ],
            "text/plain": [
              "rating                    Little_Kids  Teens  Older_Kids  Mature\n",
              "International Movies              703    609         895     262\n",
              "Dramas                            679    534         794     299\n",
              "Comedies                          546    329         556     140\n",
              "Action & Adventure                281    178         267     101\n",
              "Independent Movies                165    180         209     158\n",
              "Romantic Movies                   200    133         221      42\n",
              "Thrillers                         149    135         168     105\n",
              "Children & Family Movies          293     10         245       0\n",
              "Documentaries                     121     75         130      48\n",
              "Horror Movies                      92     88          91      69"
            ]
          },
          "metadata": {},
          "execution_count": 63
        }
      ]
    },
    {
      "cell_type": "code",
      "metadata": {
        "id": "RSOXwhJ1QUZA",
        "execution": {
          "iopub.status.busy": "2021-11-10T16:08:26.307491Z",
          "iopub.execute_input": "2021-11-10T16:08:26.307946Z",
          "iopub.status.idle": "2021-11-10T16:08:38.323987Z",
          "shell.execute_reply.started": "2021-11-10T16:08:26.30787Z",
          "shell.execute_reply": "2021-11-10T16:08:38.323091Z"
        },
        "trusted": true
      },
      "source": [
        "top_10_listed_in_duration_dict = {}\n",
        "\n",
        "for _ in top_10_listed_in:\n",
        "  top_10_listed_in_duration_dict[_] = Netflix_Movie_17_21_data[Netflix_Movie_17_21_data.listed_in.apply(pd.Series).values == _].duration_in_min.mean()\n",
        "\n",
        "pd.Series(top_10_listed_in_duration_dict).plot.bar(figsize=(15,6),edgecolor='black',color='yellow')\n",
        "plt.title('Average duration of movies in top 10 types')\n",
        "plt.xlabel('Types of movies')\n",
        "plt.ylabel('Average duration')\n",
        "plt.xticks(rotation=40)\n",
        "plt.show()"
      ],
      "execution_count": null,
      "outputs": []
    }
  ]
}